{
 "cells": [
  {
   "cell_type": "code",
   "execution_count": 1,
   "metadata": {},
   "outputs": [
    {
     "name": "stdout",
     "output_type": "stream",
     "text": [
      "Populating the interactive namespace from numpy and matplotlib\n"
     ]
    }
   ],
   "source": [
    "%pylab inline\n",
    "import matplotlib.pyplot as plt\n",
    "import pandas as pd\n",
    "import numpy as np\n",
    "import xgboost as xgb"
   ]
  },
  {
   "cell_type": "markdown",
   "metadata": {},
   "source": [
    "На прошлой неделе был подготовлен датасет, позволяющий получить скор ~19.5 для июня, 20.39 для мая с использованием xgboost и без использования предсказаний arima\n",
    "\n",
    "Там уже и так достаточно признаков:\n",
    "- число поездок за прошлый день/неделю\n",
    "- скользящие суммы по 6 часов \n",
    "- дни недели\n",
    "- синусы/косинусы, соответствующие недельной сезонности (K=7)\n",
    "\n",
    "Что ещё можно добавить:\n",
    "- Добавить ещё скользящих сумм.\n",
    "- Погода (навеяно задачкой про поездки на велосипедах и погоду)\n",
    "- Праздники"
   ]
  },
  {
   "cell_type": "code",
   "execution_count": 2,
   "metadata": {},
   "outputs": [],
   "source": [
    "regions_data = pd.read_csv('region_data_rides_with_features.csv')"
   ]
  },
  {
   "cell_type": "code",
   "execution_count": 3,
   "metadata": {
    "collapsed": true
   },
   "outputs": [],
   "source": [
    "regions_data.index = regions_data.time"
   ]
  },
  {
   "cell_type": "code",
   "execution_count": 4,
   "metadata": {},
   "outputs": [],
   "source": [
    "# if (['time','time.1'] in data.columns):\n",
    "regions_data.drop('time.1', axis = 1, inplace = True)"
   ]
  },
  {
   "cell_type": "code",
   "execution_count": 5,
   "metadata": {},
   "outputs": [],
   "source": [
    "#Скользящее среднее : число поездок последних 12 часов\n",
    "tmp=regions_data.groupby(['region'])['count'].rolling(12).sum()\n",
    "tmp=tmp.reset_index()\n",
    "tmp.index=tmp.time\n",
    "regions_data['last_12_hours_sum'] = tmp['count']\n",
    "regions_data['last_12_hours_mean']=regions_data['last_12_hours_sum']/12"
   ]
  },
  {
   "cell_type": "code",
   "execution_count": 6,
   "metadata": {
    "collapsed": true
   },
   "outputs": [],
   "source": [
    "#Скользящее среднее : число поездок последних 12 часов\n",
    "tmp=regions_data.groupby(['region'])['count'].rolling(24).sum()\n",
    "tmp=tmp.reset_index()\n",
    "tmp.index=tmp.time\n",
    "regions_data['last_24_hours_sum'] = tmp['count']\n",
    "regions_data['last_24_hours_mean']=regions_data['last_24_hours_sum']/24"
   ]
  },
  {
   "cell_type": "code",
   "execution_count": 7,
   "metadata": {
    "collapsed": true
   },
   "outputs": [],
   "source": [
    "# с этими признаками стало хуже\n",
    "regions_data['4to9_h_ago']=regions_data.groupby(['region'])['count'].shift(3)\n",
    "regions_data['7to13_h_ago']=regions_data.groupby(['region'])['count'].shift(6)"
   ]
  },
  {
   "cell_type": "code",
   "execution_count": 8,
   "metadata": {
    "collapsed": true
   },
   "outputs": [],
   "source": [
    "base_columns = [ u'region',u'week', u'day',u'hour',\n",
    "                   u'sink1', u'cosk1', u'sink2', u'cosk2', u'sink3', u'cosk3',\n",
    "                   u'sink4', u'cosk4', u'sink5', u'cosk5', u'sink6', u'cosk6',\n",
    "                   u'sink7', u'cosk7', \n",
    "                   u'1to6_h_ago', u'2to7_h_ago', u'3to8_h_ago',\n",
    "                   # с этими признаками стало хуже\n",
    "                   # u'4to9_h_ago', u'7to13_h_ago',\n",
    "                   u'last_6_hours_mean', u'last_6_hours_sum',\n",
    "                   u'last_12_hours_sum', u'last_12_hours_mean',\n",
    "                   u'last_24_hours_sum','last_24_hours_mean'\n",
    "               ]"
   ]
  },
  {
   "cell_type": "code",
   "execution_count": 9,
   "metadata": {
    "collapsed": true
   },
   "outputs": [],
   "source": [
    "# функция получения идентификатора для проведения сабмита\n",
    "def get_id(x, a):\n",
    "    return str(x[0])+'_'+str(x[1])[:10]+'_'+str(int(str(x[1])[11:13]))+'_'+str(a)"
   ]
  },
  {
   "cell_type": "code",
   "execution_count": 10,
   "metadata": {},
   "outputs": [],
   "source": [
    "# функция обучения, получения предсказания и ошибка\n",
    "def make_prediction(base_columns, train_time_start,train_time_end,test_time_start,test_time_end,\n",
    "                    error_for_month, submit = False):\n",
    "\n",
    "    abs_err_sum=0\n",
    "    df_submit = pd.DataFrame()\n",
    "    for i in ['y1','y2','y3','y4','y5','y6']:\n",
    "        columns_to_use = base_columns\n",
    "        columns_to_use.append(i+'_sh24')\n",
    "        columns_to_use.append(i+'_sh168')\n",
    "\n",
    "\n",
    "        X_train=regions_data[columns_to_use][train_time_start:train_time_end]\n",
    "        Y_train=regions_data[[i]][train_time_start:train_time_end]\n",
    "\n",
    "        X_test=regions_data[columns_to_use][test_time_start:test_time_end]\n",
    "\n",
    "        T_train_xgb = xgb.DMatrix(X_train, Y_train)\n",
    "        \n",
    "        # оставим параметры по умолчанию: они творят чудеса\n",
    "        params = {}\n",
    "        gbm = xgb.train(dtrain = T_train_xgb, params = params)\n",
    "        Y_pred = gbm.predict(xgb.DMatrix(X_test))\n",
    "\n",
    "        predictions = pd.DataFrame(regions_data[[i,'region']][test_time_start:test_time_end])\n",
    "        predictions['pred'] = Y_pred\n",
    "        predictions.loc[predictions.pred < 0,'pred'] = 0.0\n",
    "        \n",
    "        if(submit):          \n",
    "            predictions['hour'] = X_test.index\n",
    "            predictions['id'] = predictions[['region', 'hour']].apply(get_id,args=[i[1]], axis=1)\n",
    "            df_submit = pd.concat([df_submit, predictions[['id', 'pred']]], axis=0)\n",
    "\n",
    "        abs_err_sum=abs_err_sum + np.sum(np.abs(predictions.pred - predictions[i]))\n",
    "        print ('Current error:', abs_err_sum)\n",
    "\n",
    "    print ('Q error for period: ',abs_err_sum / error_for_month)\n",
    "           \n",
    "    return predictions, df_submit"
   ]
  },
  {
   "cell_type": "code",
   "execution_count": 49,
   "metadata": {
    "collapsed": true
   },
   "outputs": [],
   "source": [
    "# функция обучения, получения предсказания и ошибка\n",
    "def make_prediction_params(base_columns, train_time_start,train_time_end,test_time_start,test_time_end,\n",
    "                    error_for_month, submit = False):\n",
    "\n",
    "    abs_err_sum=0\n",
    "    df_submit = pd.DataFrame()\n",
    "    for i in ['y1','y2','y3','y4','y5','y6']:\n",
    "        columns_to_use = base_columns\n",
    "        columns_to_use.append(i+'_sh24')\n",
    "        columns_to_use.append(i+'_sh168')\n",
    "        X_train=regions_data[columns_to_use][train_time_start:train_time_end]\n",
    "        Y_train=regions_data[[i]][train_time_start:train_time_end]\n",
    "        \n",
    "        X_test=regions_data[columns_to_use][test_time_start:test_time_end]\n",
    "\n",
    "        xgb_train = xgb.DMatrix(X_train, Y_train)\n",
    "        \n",
    "        params={\n",
    "            'max_depth': 8, \n",
    "            'eta': 0.05, \n",
    "            'colsample_bytree': 1,\n",
    "            \"min_child_weight\": 8, \n",
    "            'subsample': 0.8,\n",
    "            'gamma': 1, # l2-regularization term\n",
    "            'alpha': 0.01, # l1-regularization term\n",
    "            'objective': \"reg:linear\",\n",
    "            'eval_metric': 'mae',\n",
    "            'nthread': -1\n",
    "        }\n",
    "        evals = [(xgb_train, 'train')]\n",
    "        bst = xgb.train(params, xgb_train, num_boost_round=200, early_stopping_rounds=10, evals=evals, verbose_eval=False)\n",
    "        xgb_test = xgb.DMatrix(X_test)\n",
    "        Y_pred = bst.predict(xgb_test)\n",
    "\n",
    "        predictions = pd.DataFrame(regions_data[[i,'region']][test_time_start:test_time_end])\n",
    "        predictions['pred'] = Y_pred\n",
    "        predictions.loc[predictions.pred < 0,'pred'] = 0.0\n",
    "        \n",
    "        if(submit):          \n",
    "            predictions['hour'] = X_test.index\n",
    "            predictions['id'] = predictions[['region', 'hour']].apply(get_id,args=[i[1]], axis=1)\n",
    "            df_submit = pd.concat([df_submit, predictions[['id', 'pred']]], axis=0)\n",
    "\n",
    "        abs_err_sum=abs_err_sum + np.sum(np.abs(predictions.pred - predictions[i]))\n",
    "        print ('Current error:', abs_err_sum)\n",
    "\n",
    "    print ('Q error for period: ',abs_err_sum / error_for_month)\n",
    "           \n",
    "    return predictions, df_submit"
   ]
  },
  {
   "cell_type": "code",
   "execution_count": 91,
   "metadata": {},
   "outputs": [
    {
     "data": {
      "text/html": [
       "<div>\n",
       "<table border=\"1\" class=\"dataframe\">\n",
       "  <thead>\n",
       "    <tr style=\"text-align: right;\">\n",
       "      <th></th>\n",
       "      <th>time</th>\n",
       "      <th>region</th>\n",
       "      <th>count</th>\n",
       "      <th>y1</th>\n",
       "      <th>y2</th>\n",
       "      <th>y3</th>\n",
       "      <th>y4</th>\n",
       "      <th>y5</th>\n",
       "      <th>y6</th>\n",
       "      <th>row</th>\n",
       "      <th>...</th>\n",
       "      <th>y6_sh168</th>\n",
       "      <th>last_12_hours_sum</th>\n",
       "      <th>last_12_hours_mean</th>\n",
       "      <th>last_24_hours_sum</th>\n",
       "      <th>last_24_hours_mean</th>\n",
       "      <th>3to7_h_ago</th>\n",
       "      <th>6to8_h_ago</th>\n",
       "      <th>3to9_h_ago</th>\n",
       "      <th>7to13_h_ago</th>\n",
       "      <th>4to9_h_ago</th>\n",
       "    </tr>\n",
       "    <tr>\n",
       "      <th>time</th>\n",
       "      <th></th>\n",
       "      <th></th>\n",
       "      <th></th>\n",
       "      <th></th>\n",
       "      <th></th>\n",
       "      <th></th>\n",
       "      <th></th>\n",
       "      <th></th>\n",
       "      <th></th>\n",
       "      <th></th>\n",
       "      <th></th>\n",
       "      <th></th>\n",
       "      <th></th>\n",
       "      <th></th>\n",
       "      <th></th>\n",
       "      <th></th>\n",
       "      <th></th>\n",
       "      <th></th>\n",
       "      <th></th>\n",
       "      <th></th>\n",
       "      <th></th>\n",
       "    </tr>\n",
       "  </thead>\n",
       "  <tbody>\n",
       "    <tr>\n",
       "      <th>2015-08-01 00:00:00</th>\n",
       "      <td>2015-08-01 00:00:00</td>\n",
       "      <td>1075</td>\n",
       "      <td>64</td>\n",
       "      <td>49.0</td>\n",
       "      <td>56.0</td>\n",
       "      <td>21.0</td>\n",
       "      <td>7.0</td>\n",
       "      <td>9.0</td>\n",
       "      <td>11.0</td>\n",
       "      <td>1.0</td>\n",
       "      <td>...</td>\n",
       "      <td>NaN</td>\n",
       "      <td>NaN</td>\n",
       "      <td>NaN</td>\n",
       "      <td>NaN</td>\n",
       "      <td>NaN</td>\n",
       "      <td>NaN</td>\n",
       "      <td>NaN</td>\n",
       "      <td>NaN</td>\n",
       "      <td>NaN</td>\n",
       "      <td>NaN</td>\n",
       "    </tr>\n",
       "    <tr>\n",
       "      <th>2015-08-01 01:00:00</th>\n",
       "      <td>2015-08-01 01:00:00</td>\n",
       "      <td>1075</td>\n",
       "      <td>49</td>\n",
       "      <td>56.0</td>\n",
       "      <td>21.0</td>\n",
       "      <td>7.0</td>\n",
       "      <td>9.0</td>\n",
       "      <td>11.0</td>\n",
       "      <td>11.0</td>\n",
       "      <td>2.0</td>\n",
       "      <td>...</td>\n",
       "      <td>NaN</td>\n",
       "      <td>NaN</td>\n",
       "      <td>NaN</td>\n",
       "      <td>NaN</td>\n",
       "      <td>NaN</td>\n",
       "      <td>NaN</td>\n",
       "      <td>NaN</td>\n",
       "      <td>NaN</td>\n",
       "      <td>NaN</td>\n",
       "      <td>NaN</td>\n",
       "    </tr>\n",
       "    <tr>\n",
       "      <th>2015-08-01 02:00:00</th>\n",
       "      <td>2015-08-01 02:00:00</td>\n",
       "      <td>1075</td>\n",
       "      <td>56</td>\n",
       "      <td>21.0</td>\n",
       "      <td>7.0</td>\n",
       "      <td>9.0</td>\n",
       "      <td>11.0</td>\n",
       "      <td>11.0</td>\n",
       "      <td>22.0</td>\n",
       "      <td>3.0</td>\n",
       "      <td>...</td>\n",
       "      <td>NaN</td>\n",
       "      <td>NaN</td>\n",
       "      <td>NaN</td>\n",
       "      <td>NaN</td>\n",
       "      <td>NaN</td>\n",
       "      <td>NaN</td>\n",
       "      <td>NaN</td>\n",
       "      <td>NaN</td>\n",
       "      <td>NaN</td>\n",
       "      <td>NaN</td>\n",
       "    </tr>\n",
       "  </tbody>\n",
       "</table>\n",
       "<p>3 rows × 53 columns</p>\n",
       "</div>"
      ],
      "text/plain": [
       "                                    time  region  count    y1    y2    y3  \\\n",
       "time                                                                        \n",
       "2015-08-01 00:00:00  2015-08-01 00:00:00    1075     64  49.0  56.0  21.0   \n",
       "2015-08-01 01:00:00  2015-08-01 01:00:00    1075     49  56.0  21.0   7.0   \n",
       "2015-08-01 02:00:00  2015-08-01 02:00:00    1075     56  21.0   7.0   9.0   \n",
       "\n",
       "                       y4    y5    y6  row     ...      y6_sh168  \\\n",
       "time                                           ...                 \n",
       "2015-08-01 00:00:00   7.0   9.0  11.0  1.0     ...           NaN   \n",
       "2015-08-01 01:00:00   9.0  11.0  11.0  2.0     ...           NaN   \n",
       "2015-08-01 02:00:00  11.0  11.0  22.0  3.0     ...           NaN   \n",
       "\n",
       "                     last_12_hours_sum  last_12_hours_mean  last_24_hours_sum  \\\n",
       "time                                                                            \n",
       "2015-08-01 00:00:00                NaN                 NaN                NaN   \n",
       "2015-08-01 01:00:00                NaN                 NaN                NaN   \n",
       "2015-08-01 02:00:00                NaN                 NaN                NaN   \n",
       "\n",
       "                     last_24_hours_mean  3to7_h_ago  6to8_h_ago  3to9_h_ago  \\\n",
       "time                                                                          \n",
       "2015-08-01 00:00:00                 NaN         NaN         NaN         NaN   \n",
       "2015-08-01 01:00:00                 NaN         NaN         NaN         NaN   \n",
       "2015-08-01 02:00:00                 NaN         NaN         NaN         NaN   \n",
       "\n",
       "                     7to13_h_ago  4to9_h_ago  \n",
       "time                                          \n",
       "2015-08-01 00:00:00          NaN         NaN  \n",
       "2015-08-01 01:00:00          NaN         NaN  \n",
       "2015-08-01 02:00:00          NaN         NaN  \n",
       "\n",
       "[3 rows x 53 columns]"
      ]
     },
     "execution_count": 91,
     "metadata": {},
     "output_type": "execute_result"
    }
   ],
   "source": [
    "regions_data.head(3)"
   ]
  },
  {
   "cell_type": "markdown",
   "metadata": {},
   "source": [
    "Смотрим на ошибку в мае"
   ]
  },
  {
   "cell_type": "code",
   "execution_count": 34,
   "metadata": {
    "collapsed": true
   },
   "outputs": [],
   "source": [
    "train_time_start = '2016-01-02'\n",
    "train_time_end = '2016-04-30 23:00:00'\n",
    "test_time_start = '2016-05-01'\n",
    "test_time_end = '2016-05-31 17:00:00'"
   ]
  },
  {
   "cell_type": "code",
   "execution_count": 93,
   "metadata": {},
   "outputs": [],
   "source": [
    "regions_data.index = pd.to_datetime(regions_data.index)"
   ]
  },
  {
   "cell_type": "code",
   "execution_count": 94,
   "metadata": {},
   "outputs": [
    {
     "name": "stdout",
     "output_type": "stream",
     "text": [
      "Current error: 1325003.7180383205\n",
      "Current error: 2836684.608457327\n",
      "Current error: 4402076.549955308\n",
      "Current error: 5993353.3252872825\n",
      "Current error: 7583161.690085232\n",
      "Current error: 9177435.819796383\n",
      "Q error for period:  20.29202999061703\n"
     ]
    }
   ],
   "source": [
    "predictions, _ = make_prediction(base_columns, train_time_start,train_time_end,test_time_start,test_time_end, 102*739*6)"
   ]
  },
  {
   "cell_type": "markdown",
   "metadata": {},
   "source": [
    "И ипользованием скользящего среднего были получены результаты\n",
    "- 20.39 : окно 6\n",
    "- 20.31 : окно 6 и 12\n",
    "- 20.28 : окно 6, 12 и 24\n",
    "Дальше продолжать смыслы нет, качество не сильно возрастает"
   ]
  },
  {
   "cell_type": "markdown",
   "metadata": {},
   "source": [
    "### Добавление погоды.\n",
    "Погода может существенно повлиять на число поездок. Посмотрим сначала температуру и ветер. Пример получения метеоданных в соседнем ноутбуке"
   ]
  },
  {
   "cell_type": "code",
   "execution_count": 39,
   "metadata": {},
   "outputs": [],
   "source": [
    "weather_data = pd.read_csv(\"weather.csv\", names = ['time','temperature','wind','rawtime'], index_col = 'time')\n",
    "weather_data.index = pd.to_datetime(weather_data.index)\n",
    "weather_data = weather_data[['temperature','wind']]['2015-08-01 00:00:00':'2016-06-30 17:00:00']\n",
    "weather_data['temperature'] = (weather_data['temperature']).astype(float)\n",
    "weather_data['wind'] = (weather_data['wind']).astype(float)"
   ]
  },
  {
   "cell_type": "code",
   "execution_count": 36,
   "metadata": {
    "collapsed": true
   },
   "outputs": [],
   "source": [
    "#regions_data2 = regions_data"
   ]
  },
  {
   "cell_type": "code",
   "execution_count": 41,
   "metadata": {
    "collapsed": true
   },
   "outputs": [],
   "source": [
    "regions_data = regions_data2"
   ]
  },
  {
   "cell_type": "code",
   "execution_count": 42,
   "metadata": {},
   "outputs": [],
   "source": [
    "merged = pd.merge(regions_data, weather_data, left_index=True, right_index=True)"
   ]
  },
  {
   "cell_type": "code",
   "execution_count": 43,
   "metadata": {
    "collapsed": true
   },
   "outputs": [],
   "source": [
    "regions_data = merged"
   ]
  },
  {
   "cell_type": "code",
   "execution_count": 47,
   "metadata": {
    "collapsed": true
   },
   "outputs": [],
   "source": [
    "train_time_start = '2015-08-01'\n",
    "train_time_end = '2016-04-30 23:00:00'\n",
    "test_time_start = '2016-05-01'\n",
    "test_time_end = '2016-05-31 17:00:00'"
   ]
  },
  {
   "cell_type": "code",
   "execution_count": 48,
   "metadata": {},
   "outputs": [
    {
     "name": "stdout",
     "output_type": "stream",
     "text": [
      "Current error: 1313266.8039200902\n",
      "Current error: 2818779.5776881576\n",
      "Current error: 4361857.36230582\n",
      "Current error: 5921879.743633211\n",
      "Current error: 7498335.817202985\n",
      "Current error: 9083766.878186285\n",
      "Q error for period:  20.084920618275635\n"
     ]
    }
   ],
   "source": [
    "base_columns = [ u'region',u'week', u'day',u'hour',\n",
    "                   u'sink1', u'cosk1', u'sink2', u'cosk2', u'sink3', u'cosk3',\n",
    "                   u'sink4', u'cosk4', u'sink5', u'cosk5', u'sink6', u'cosk6',\n",
    "                   u'sink7', u'cosk7', \n",
    "                   u'1to6_h_ago', u'2to7_h_ago', u'3to8_h_ago',\n",
    "                   u'last_6_hours_mean', u'last_6_hours_sum',\n",
    "                   u'last_12_hours_sum', u'last_12_hours_mean',\n",
    "                   u'last_24_hours_sum','last_24_hours_mean',\n",
    "                   u'temperature', u'wind'\n",
    "               ]\n",
    "predictions, _ = make_prediction(base_columns, train_time_start,train_time_end,test_time_start,test_time_end, 102*739*6)"
   ]
  },
  {
   "cell_type": "markdown",
   "metadata": {},
   "source": [
    "Странно, но базовые параметры температуры не помогли, но всё равно оставим.\n",
    "Попробуем изменить параметры модели"
   ]
  },
  {
   "cell_type": "code",
   "execution_count": 50,
   "metadata": {
    "collapsed": true
   },
   "outputs": [],
   "source": [
    "train_time_start = '2016-01-02'\n",
    "train_time_end = '2016-04-30 23:00:00'\n",
    "test_time_start = '2016-05-01'\n",
    "test_time_end = '2016-05-31 17:00:00'"
   ]
  },
  {
   "cell_type": "code",
   "execution_count": null,
   "metadata": {},
   "outputs": [
    {
     "name": "stdout",
     "output_type": "stream",
     "text": [
      "Current error: 1172490.179292649\n",
      "Current error: 2549724.648683816\n",
      "Current error: "
     ]
    }
   ],
   "source": [
    "%%time\n",
    "base_columns = [ u'region',u'week', u'day',u'hour',\n",
    "                   u'sink1', u'cosk1', u'sink2', u'cosk2', u'sink3', u'cosk3',\n",
    "                   u'sink4', u'cosk4', u'sink5', u'cosk5', u'sink6', u'cosk6',\n",
    "                   u'sink7', u'cosk7', \n",
    "                   u'1to6_h_ago', u'2to7_h_ago', u'3to8_h_ago',\n",
    "                   u'last_6_hours_mean', u'last_6_hours_sum',\n",
    "                   u'last_12_hours_sum', u'last_12_hours_mean',\n",
    "                   u'last_24_hours_sum','last_24_hours_mean',\n",
    "                   u'temperature', u'wind'\n",
    "               ]\n",
    "predictions, _ = make_prediction_params(base_columns, train_time_start,train_time_end,test_time_start,test_time_end, 102*739*6)"
   ]
  },
  {
   "cell_type": "markdown",
   "metadata": {},
   "source": [
    "Делаем предсказания для июня."
   ]
  },
  {
   "cell_type": "code",
   "execution_count": 22,
   "metadata": {},
   "outputs": [
    {
     "name": "stderr",
     "output_type": "stream",
     "text": [
      "C:\\Anaconda2\\lib\\site-packages\\sklearn\\linear_model\\coordinate_descent.py:484: ConvergenceWarning: Objective did not converge. You might want to increase the number of iterations. Fitting data with very small alpha may cause precision problems.\n",
      "  ConvergenceWarning)\n"
     ]
    },
    {
     "name": "stdout",
     "output_type": "stream",
     "text": [
      "\n",
      "20.6100811262\n",
      "Wall time: 15min\n"
     ]
    }
   ],
   "source": [
    "# июнь\n",
    "train_time_start = '2015-08-01'\n",
    "train_time_end = '2016-05-31 22:00:00'\n",
    "test_time_start = '2016-05-31 23:00:00'\n",
    "test_time_end = '2016-06-30 17:00:00'"
   ]
  },
  {
   "cell_type": "code",
   "execution_count": 44,
   "metadata": {},
   "outputs": [
    {
     "name": "stdout",
     "output_type": "stream",
     "text": [
      "20.3926429294\n",
      "CPU times: user 19min 13s, sys: 2min 24s, total: 21min 37s\n",
      "Wall time: 11min 54s\n"
     ]
    }
   ],
   "source": [
    "%%time\n",
    "_, submit_june = make_prediction_params(train_time_start,train_time_end,test_time_start,test_time_end, 102*715*6, True)"
   ]
  }
 ],
 "metadata": {
  "anaconda-cloud": {},
  "kernelspec": {
   "display_name": "Python 3",
   "language": "python",
   "name": "python3"
  },
  "language_info": {
   "codemirror_mode": {
    "name": "ipython",
    "version": 3
   },
   "file_extension": ".py",
   "mimetype": "text/x-python",
   "name": "python",
   "nbconvert_exporter": "python",
   "pygments_lexer": "ipython3",
   "version": "3.6.0"
  }
 },
 "nbformat": 4,
 "nbformat_minor": 1
}
