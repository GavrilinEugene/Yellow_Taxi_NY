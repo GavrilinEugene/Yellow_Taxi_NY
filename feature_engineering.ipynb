{
 "cells": [
  {
   "cell_type": "code",
   "execution_count": 1,
   "metadata": {},
   "outputs": [
    {
     "name": "stdout",
     "output_type": "stream",
     "text": [
      "Populating the interactive namespace from numpy and matplotlib\n"
     ]
    }
   ],
   "source": [
    "%pylab inline\n",
    "import matplotlib.pyplot as plt\n",
    "import pandas as pd\n",
    "import numpy as np\n",
    "\n",
    "import os\n",
    "import scipy as sc\n",
    "from sklearn.linear_model import ElasticNet\n",
    "from sklearn.metrics import mean_absolute_error as MAE\n",
    "\n",
    "import xgboost as xgb\n",
    "\n",
    "import warnings\n",
    "warnings.filterwarnings('ignore')"
   ]
  },
  {
   "cell_type": "markdown",
   "metadata": {},
   "source": [
    "С прошлой недели я ушёл с результатом 19.5: xgboost без тюнинга, где использовались:\n",
    "        - дневные и часовые лаги\n",
    "        - скользящее среднее на 6 часов,\n",
    "        - гармонические фичи для сезонностей\n",
    "        - дни недели\n",
    "На этой неделе попробовал пообучаться на чём-то более быстром, чем xgboost (подбор признаков), затем взял параметры для xgboost и посчитал две версии. Здесь показана версия на ошибку 16.7, потом я добавил ещё скользящих сумм, это считалось 12 часов на достаточно мощном компьютере, и это дало результат 16.19. Но такое время не приемлимо.\n",
    "Что было добавлено:\n",
    "        - знаменательные даты (не все давали прирост)\n",
    "        - ещё скользящих средник\n",
    "        - погода (парсинг погоды в соседнем ноутбуке)\n",
    "       "
   ]
  },
  {
   "cell_type": "code",
   "execution_count": 2,
   "metadata": {},
   "outputs": [],
   "source": [
    "# все данные\n",
    "df = pd.read_csv('all_trip_data.csv', index_col='time')\n",
    "df.index = pd.to_datetime(df.index)"
   ]
  },
  {
   "cell_type": "code",
   "execution_count": 3,
   "metadata": {
    "collapsed": true
   },
   "outputs": [],
   "source": [
    "# sin-cos\n",
    "def make_fourier_features(data, num_end, f_ind='week_'):\n",
    "    length = data.shape[0]   \n",
    "    for i in range(1, num_end + 1):\n",
    "        sin = \"s_\" + f_ind + str(i)\n",
    "        cos = \"c_\" + f_ind + str(i)\n",
    "        data[sin] = np.sin(2*np.pi*i*np.arange(1, length+1)/168.0)\n",
    "        data[cos] = np.cos(2*np.pi*i*np.arange(1, length+1)/168.0)\n",
    "\n",
    "# day_of_week\n",
    "def make_week_day_features(data):\n",
    "    data['week']= pd.DatetimeIndex(data.index).dayofweek\n",
    "    data['day']= pd.DatetimeIndex(data.index).day\n",
    "    data['hour']= pd.DatetimeIndex(data.index).hour\n"
   ]
  },
  {
   "cell_type": "code",
   "execution_count": 4,
   "metadata": {
    "collapsed": true
   },
   "outputs": [],
   "source": [
    "# данные для мая\n",
    "R = 102\n",
    "H = 739\n",
    "Q_may = 0\n",
    "error_for_month = 1.0/(R*H*6)"
   ]
  },
  {
   "cell_type": "code",
   "execution_count": 5,
   "metadata": {
    "collapsed": true
   },
   "outputs": [],
   "source": [
    "# base features\n",
    "def make_features(region_df, offset, degree, K_d, K_h):\n",
    "     \n",
    "    # 6-hours-window\n",
    "    region_df['last_6_hours_sum'] = region_df['val'].rolling(6).sum().fillna(0)\n",
    "    region_df['last_6_hours_mean'] = region_df['last_6_hours_sum']/6\n",
    "    \n",
    "    # fourier components\n",
    "    make_fourier_features(region_df, degree)\n",
    "    \n",
    "    # weekday dummy components\n",
    "    make_week_day_features(region_df)\n",
    "    \n",
    "    # day lags\n",
    "    for day_lag in range(1, K_d):\n",
    "        region_df['day_lag_'+str(day_lag)] = [0]*offset + region_df[offset-24*day_lag:-24*day_lag]['val'].values.tolist()\n",
    "        \n",
    "    # hour lags\n",
    "    for hour_lag in range(1, K_h):\n",
    "        region_df['hour_lag_'+str(hour_lag)] = [0]*offset + region_df[offset-hour_lag:-hour_lag]['val'].values.tolist()\n",
    "        \n",
    "    return region_df"
   ]
  },
  {
   "cell_type": "code",
   "execution_count": 6,
   "metadata": {},
   "outputs": [],
   "source": [
    "# Функция подсчёта ошибки на конкретном регионе (так лучше, чем считать все, как было сделано на 5ой неделе)\n",
    "# с базовыми признаками\n",
    "def train_predict(data, train_time_end, test_time_end, region, denom, f_make_features,\n",
    "                       pred_start='2016-05-01', pred_end='2016-05-31', degree=49,\n",
    "                       K_d=2, K_h=8):\n",
    "    \n",
    "    region_df = pd.DataFrame(data.loc[:test_time_end][str(region)].values, columns=['val'],\n",
    "                            index = data.loc[:test_time_end].index)\n",
    "       \n",
    "    abs_err_sum = 0\n",
    "    offset = max(24*K_d, K_h, 12)\n",
    "    \n",
    "    # базовые признаки\n",
    "    region_df = f_make_features(region_df, offset, degree, K_d, K_h)\n",
    "             \n",
    "    for i in range(6):\n",
    "        # Training \n",
    "        train_length = data.loc[:train_time_end].shape[0] - i\n",
    "        regressor = ElasticNet(alpha=0.01, l1_ratio=0.4)\n",
    "        \n",
    "        X_train = region_df.iloc[offset:train_length].drop(['val'], axis = 1)\n",
    "        y_train = region_df.iloc[offset + i + 1:train_length + i + 1].val\n",
    "        regressor.fit(X_train,y_train)\n",
    "\n",
    "        # predictions\n",
    "        X_test = region_df[train_time_end:test_time_end].drop(['val'], axis=1)\n",
    "        prediction = regressor.predict(X_test)\n",
    "        prediction[prediction < 0] = 0.0\n",
    "        \n",
    "        # 6 hours combinations\n",
    "        begin_hour = pred_start +' 0' + str(0 + i)+':00:00'\n",
    "        end_hour = pred_end + ' ' + str(18 + i) + ':00:00'\n",
    "        \n",
    "        error = denom * np.abs(prediction - data.loc[begin_hour:end_hour][str(region)].values)\n",
    "        abs_err_sum += error.sum()\n",
    "        \n",
    "#     print(region, abs_err_sum)    \n",
    "    del region_df\n",
    "    return abs_err_sum"
   ]
  },
  {
   "cell_type": "code",
   "execution_count": 223,
   "metadata": {},
   "outputs": [
    {
     "name": "stdout",
     "output_type": "stream",
     "text": [
      "1075 0.106891870464\n",
      "1232 0.65010569182\n",
      "Wall time: 7.81 s\n"
     ]
    }
   ],
   "source": [
    "%%time\n",
    "# проверка на базовых фичах \n",
    "err = train_predict(df.loc[:'2016-05-31 23:00:00'], \n",
    "                    train_time_end, test_time_end, 1075, error_for_month, make_features)\n",
    "\n",
    "print (err)\n",
    "err = train_predict(df.loc[:'2016-05-31 23:00:00'], \n",
    "                    train_time_end, test_time_end, 1232, error_for_month, make_features)\n",
    "print (err)"
   ]
  },
  {
   "cell_type": "code",
   "execution_count": 7,
   "metadata": {},
   "outputs": [],
   "source": [
    "# Проверка для всех регионов\n",
    "def calculate_error(data_time_end, train_time_end, test_time_end, feature_generation_function):\n",
    "    Q_error = 0\n",
    "    for region in df.columns:\n",
    "        res = train_predict(df.loc[:data_time_end], \n",
    "                            train_time_end,  test_time_end, region, \n",
    "                            error_for_month, feature_generation_function)\n",
    "        Q_error += res\n",
    "    print (\"\\n\", Q_error)"
   ]
  },
  {
   "cell_type": "code",
   "execution_count": 284,
   "metadata": {},
   "outputs": [
    {
     "name": "stdout",
     "output_type": "stream",
     "text": [
      "\n",
      " 18.5500819187\n"
     ]
    }
   ],
   "source": [
    "%%time\n",
    "# для мая\n",
    "train_time_end = '2016-04-30 23:00:00'\n",
    "test_time_end = '2016-05-31 17:00:00'\n",
    "calculate_error('2016-05-31 23:00:00',train_time_end, test_time_end, make_features)"
   ]
  },
  {
   "cell_type": "markdown",
   "metadata": {},
   "source": [
    "Отлично, попробуем добавить праздники"
   ]
  },
  {
   "cell_type": "code",
   "execution_count": 8,
   "metadata": {},
   "outputs": [],
   "source": [
    "# праздники учитывал только для своего промежутка полученных данных: 08-15 : 06-16,\n",
    "def make_features_with_holidays(region_df, offset, degree, K_d, K_h):\n",
    "     \n",
    "    region_df = make_features(region_df, offset, degree, K_d, K_h)\n",
    "    \n",
    "    region_df['pre_new_year'] = [1 if date.month == 12 and date.day == 31 else 0 for date in region_df.index]\n",
    "    region_df['chistmas'] = [1 if date.month == 12 and date.day == 25 else 0 for date in region_df.index] \n",
    "    region_df['new_year'] = [1 if date.month == 1 and date.day == 1 else 0 for date in region_df.index]\n",
    "    region_df['valentine_day'] = [1 if date.month == 2 and date.day == 14 else 0 for date in region_df.index]\n",
    "    region_df['9/11'] = [1 if date.month == 9 and date.day == 11 else 0 for date in region_df.index]\n",
    "\n",
    "    # not common holiday date\n",
    "    # thanks_giving_day : last thursday(November)\n",
    "    region_df['thanks_giving_day'] = [1 if date.month == 11 and date.day == 26 \n",
    "                                      else 0 for date in region_df.index]\n",
    "    # president's day: third fmonday(February)\n",
    "    region_df['president_day'] = [1 if date.month == 2 and ((date.year == 2015 and date.day == 16) or\n",
    "                                       (date.year == 2016 and date.day == 15))\n",
    "                                  else 0 for date in region_df.index]\n",
    "    \n",
    "    # memorial day last monday(May) - decrease quality\n",
    "#     region_df['memorial_day'] = [1 if (date.year == 2016 and date.day == 30 and date.month == 5) or\n",
    "#                                        (date.year == 2016 and date.day == 15)\n",
    "#                                   else 0 for date in region_df.index]\n",
    "   \n",
    "    return region_df"
   ]
  },
  {
   "cell_type": "code",
   "execution_count": 232,
   "metadata": {},
   "outputs": [
    {
     "name": "stdout",
     "output_type": "stream",
     "text": [
      "1075 0.106736923361\n",
      "1232 0.649427030493\n",
      "Wall time: 8.73 s\n"
     ]
    }
   ],
   "source": [
    "%%time\n",
    "# base features + holidays \n",
    "err = train_predict(df.loc[:'2016-05-31 23:00:00'],\n",
    "                    train_time_end, test_time_end, 1075, error_for_month, make_features_with_holidays)\n",
    "\n",
    "print (err)\n",
    "err = train_predict(df.loc[:'2016-05-31 23:00:00'],\n",
    "                    train_time_end, test_time_end, 1232, error_for_month, make_features_with_holidays)\n",
    "print (err)"
   ]
  },
  {
   "cell_type": "code",
   "execution_count": 288,
   "metadata": {},
   "outputs": [
    {
     "name": "stdout",
     "output_type": "stream",
     "text": [
      "\n",
      " 18.5287810451\n",
      "Wall time: 5min 41s\n"
     ]
    }
   ],
   "source": [
    "%%time\n",
    "# для мая\n",
    "train_time_end = '2016-04-30 23:00:00'\n",
    "test_time_end = '2016-05-31 17:00:00'\n",
    "calculate_error('2016-05-31 23:00:00',train_time_end, test_time_end, make_features_with_holidays)"
   ]
  },
  {
   "cell_type": "markdown",
   "metadata": {},
   "source": [
    "Праздники помогли слегка снизить ошибку, но незначительно. Думаю проблема в небольшом датасете и числе праздников, многие значительные праздники не обозначены, т.к вообще не встречаются в рассмотренных данных"
   ]
  },
  {
   "cell_type": "markdown",
   "metadata": {},
   "source": [
    "### Weather history\n",
    "Добавим признаки, которые относятся к погоде. Погода была получена парсингом сайта https://www.wunderground.com\n",
    "Код, получающий данные приведён в соседнем ноутбуке"
   ]
  },
  {
   "cell_type": "code",
   "execution_count": 9,
   "metadata": {},
   "outputs": [],
   "source": [
    "weather_data = pd.read_csv('weather.csv',names = ['time','temperature','wind', 'old_time'],\n",
    "                           index_col = 'time')\n",
    "\n",
    "# приводим в порядок типы данных\n",
    "weather_data.index = pd.to_datetime(weather_data.index)\n",
    "weather_data = weather_data[['temperature','wind']]['2015-08-01 00:00:00':'2016-06-30 17:00:00']\n",
    "weather_data['temperature'] = (weather_data['temperature']).astype(float)\n",
    "weather_data['wind'] = (weather_data['wind']).astype(float)"
   ]
  },
  {
   "cell_type": "code",
   "execution_count": 10,
   "metadata": {
    "collapsed": true
   },
   "outputs": [],
   "source": [
    "# праздники учитывал только для своего промежутка полученных данных: 08-15 : 06-16,\n",
    "def make_features_with_holidays_and_weather(region_df, offset, degree, K_d, K_h):\n",
    "     \n",
    "    region_df = make_features_with_holidays(region_df, offset, degree, K_d, K_h)\n",
    "    \n",
    "    region_df['temperature'] = weather_data['temperature'][region_df.index]\n",
    "    region_df['wind'] = weather_data['wind'][region_df.index]\n",
    "   \n",
    "    return region_df"
   ]
  },
  {
   "cell_type": "code",
   "execution_count": 292,
   "metadata": {},
   "outputs": [
    {
     "name": "stdout",
     "output_type": "stream",
     "text": [
      "0.107422825117\n",
      "0.645917246877\n",
      "Wall time: 8.92 s\n"
     ]
    }
   ],
   "source": [
    "%%time\n",
    "# base features + holidays + weather\n",
    "err = train_predict(df.loc[:'2016-05-31 23:00:00'],\n",
    "                    train_time_end, test_time_end, 1075, \n",
    "                    error_for_month, make_features_with_holidays_and_weather)\n",
    "print (err)\n",
    "\n",
    "err = train_predict(df.loc[:'2016-05-31 23:00:00'],\n",
    "                    train_time_end, test_time_end, 1232, \n",
    "                    error_for_month, make_features_with_holidays_and_weather)\n",
    "print (err)"
   ]
  },
  {
   "cell_type": "code",
   "execution_count": 294,
   "metadata": {},
   "outputs": [
    {
     "name": "stdout",
     "output_type": "stream",
     "text": [
      "\n",
      " 18.5093851825\n",
      "Wall time: 5min 49s\n"
     ]
    }
   ],
   "source": [
    "%%time\n",
    "# для мая\n",
    "train_time_end = '2016-04-30 23:00:00'\n",
    "test_time_end = '2016-05-31 17:00:00'\n",
    "calculate_error('2016-05-31 23:00:00',train_time_end, test_time_end, make_features_with_holidays_and_weather)"
   ]
  },
  {
   "cell_type": "markdown",
   "metadata": {},
   "source": [
    "Ошибка снизилась ещё чуть-чуть, но я ожидал больше.\n",
    "Попробуем вернуться к xgboost\n"
   ]
  },
  {
   "cell_type": "code",
   "execution_count": 16,
   "metadata": {
    "collapsed": true
   },
   "outputs": [],
   "source": [
    "def train_predict_xgboost(data, train_time_end, test_time_end, region, denom, f_make_features,\n",
    "                          pred_start='2016-05-01', pred_end='2016-05-31', degree=49,\n",
    "                          K_d=2, K_h=8):\n",
    "    \n",
    "    region_df = pd.DataFrame(data.loc[:test_time_end][str(region)].values, columns=['val'],\n",
    "                            index = data.loc[:test_time_end].index)\n",
    "       \n",
    "    abs_err_sum = 0\n",
    "    offset = max(24*K_d, K_h, 12)\n",
    "    \n",
    "    # create features\n",
    "    region_df = f_make_features(region_df, offset, degree, K_d, K_h)\n",
    "    \n",
    "    for i in range(6):\n",
    "        # Training \n",
    "        train_length = data.loc[:train_time_end].shape[0] - i\n",
    "        X_train = region_df.iloc[offset:train_length].drop(['val'], axis=1)\n",
    "        y_train = region_df.iloc[offset + i + 1:train_length + i + 1].val\n",
    "        xgb_train = xgb.DMatrix(X_train, y_train)\n",
    " \n",
    "        params={\n",
    "            'max_depth': 6, \n",
    "            'eta': 0.05, \n",
    "            'colsample_bytree': 1,\n",
    "            \"min_child_weight\": 6, \n",
    "            'subsample': 0.8,\n",
    "            'gamma': 1, # L2\n",
    "            'alpha': 0.01, # L1\n",
    "            'objective': \"reg:linear\",\n",
    "            'eval_metric': 'mae',\n",
    "            'nthread': -1\n",
    "        }\n",
    "        evals = [(xgb_train, 'train')]\n",
    "        bst = xgb.train(params, xgb_train, num_boost_round=200, early_stopping_rounds=6, \n",
    "                        evals=evals, verbose_eval=False)\n",
    "       \n",
    "        # predictions\n",
    "        X_test= xgb.DMatrix(region_df[train_time_end:].drop(['val'], axis=1))\n",
    "        prediction = bst.predict(X_test)\n",
    "        \n",
    "        prediction[prediction < 0] = 0.0\n",
    "        \n",
    "        # 6 hours combinations\n",
    "        begin_hour = pred_start +' 0' + str(0 + i)+':00:00'\n",
    "        end_hour = pred_end + ' ' + str(18 + i) + ':00:00'\n",
    "        \n",
    "        error = denom * np.abs(prediction - data.loc[begin_hour:end_hour][str(region)].values)\n",
    "        abs_err_sum += error.sum()\n",
    " \n",
    "    del region_df\n",
    "    return abs_err_sum"
   ]
  },
  {
   "cell_type": "code",
   "execution_count": 15,
   "metadata": {},
   "outputs": [
    {
     "name": "stdout",
     "output_type": "stream",
     "text": [
      "0.405099590352\n",
      "Wall time: 18.6 s\n"
     ]
    }
   ],
   "source": [
    "%%time\n",
    "train_time_end = '2016-04-30 23:00:00'\n",
    "test_time_end = '2016-05-31 17:00:00'\n",
    "# base features + holidays + weather + xgboost\n",
    "err = train_predict_xgboost(df.loc[:'2016-05-31 23:00:00'],\n",
    "                    train_time_end, test_time_end, 1075, \n",
    "                    error_for_month, make_features_with_holidays_and_weather)\n",
    "print (err)"
   ]
  },
  {
   "cell_type": "markdown",
   "metadata": {},
   "source": [
    "Похоже есть смысл обучать xgboost. Посчитаем весь май"
   ]
  },
  {
   "cell_type": "code",
   "execution_count": 14,
   "metadata": {},
   "outputs": [],
   "source": [
    "R = 102\n",
    "H = 739\n",
    "error_for_month = 1.0/(R*H*6)"
   ]
  },
  {
   "cell_type": "code",
   "execution_count": 17,
   "metadata": {},
   "outputs": [
    {
     "name": "stdout",
     "output_type": "stream",
     "text": [
      "1075 0.100425263714\n",
      "1076 0.160887838109\n",
      "1077 0.112556216103\n",
      "1125 0.0967478421516\n",
      "1126 0.18992078782\n",
      "1127 0.248396661932\n",
      "1128 0.291737224282\n",
      "1129 0.319642570408\n",
      "1130 0.413333063862\n",
      "1131 0.198466692023\n",
      "1132 0.128697815978\n",
      "1172 0.0290549653696\n",
      "1173 0.0663604606156\n",
      "1174 0.0603316334289\n",
      "1175 0.039505447759\n",
      "1176 0.0440218878337\n",
      "1177 0.310804390151\n",
      "1178 0.389253581169\n",
      "1179 0.382649729757\n",
      "1180 0.444021616872\n",
      "1181 0.752831062092\n",
      "1182 0.419635729959\n",
      "1183 0.193833000149\n",
      "1184 0.0428766428568\n",
      "1221 0.0235356829208\n",
      "1222 0.0330880561974\n",
      "1223 0.0525771649062\n",
      "1224 0.0567362468211\n",
      "1225 0.022880493873\n",
      "1227 0.20221219919\n",
      "1228 0.341856981136\n",
      "1229 0.404440440531\n",
      "1230 0.526570769752\n",
      "1231 0.608159369811\n",
      "1232 0.618818516669\n",
      "1233 0.491892449983\n",
      "1234 0.32573999373\n",
      "1235 0.15994266704\n",
      "1272 0.027211810034\n",
      "1273 0.0511183762341\n",
      "1274 0.0251025831961\n",
      "1278 0.0354737436074\n",
      "1279 0.0568600081418\n",
      "1280 0.194219609723\n",
      "1281 0.572859873112\n",
      "1282 0.719514249194\n",
      "1283 0.272658059023\n",
      "1284 0.119588704831\n",
      "1285 0.25303776754\n",
      "1286 0.19967138179\n",
      "1287 0.0944009197014\n",
      "1326 0.0539762043291\n",
      "1327 0.0658902879658\n",
      "1331 0.0688156391654\n",
      "1332 0.284078192268\n",
      "1333 0.419103218341\n",
      "1334 0.428085727991\n",
      "1335 0.143780379936\n",
      "1336 0.0844722901143\n",
      "1337 0.105496277748\n",
      "1338 0.105080403493\n",
      "1339 0.0281367852958\n",
      "1376 0.0370812329909\n",
      "1377 0.0283168246002\n",
      "1378 0.0261599078951\n",
      "1380 0.0267795712783\n",
      "1382 0.0484139539951\n",
      "1383 0.245071102512\n",
      "1384 0.382991698902\n",
      "1385 0.229676242441\n",
      "1386 0.0687391635558\n",
      "1387 0.0610136045074\n",
      "1388 0.0511330837412\n",
      "1389 0.0369674473801\n",
      "1390 0.0419751066809\n",
      "1426 0.0207344146832\n",
      "1431 0.0466960983364\n",
      "1434 0.0294479275282\n",
      "1435 0.0246955637334\n",
      "1436 0.0558409140078\n",
      "1437 0.0667365508615\n",
      "1438 0.0295460327359\n",
      "1439 0.0255968873611\n",
      "1441 0.0206711976268\n",
      "1442 0.0272469809107\n",
      "1480 0.0306054870343\n",
      "1482 0.0299006521112\n",
      "1483 0.0273192566155\n",
      "1530 0.0327823411748\n",
      "1532 0.0229826965593\n",
      "1533 0.0294606358561\n",
      "1580 0.0202096152686\n",
      "1630 0.0195567772099\n",
      "1684 0.0488003075286\n",
      "1733 0.0212606754708\n",
      "1734 0.303490675925\n",
      "1783 0.31256135851\n",
      "2068 0.181447503545\n",
      "2069 0.0446275027899\n",
      "2118 0.227527120965\n",
      "2119 0.129140620871\n",
      "2168 0.172414934658\n",
      "Wall time: 3h 56min 39s\n"
     ]
    }
   ],
   "source": [
    "%%time\n",
    "# для мая\n",
    "Q_error = 0\n",
    "train_time_end = '2016-04-30 23:00:00'\n",
    "test_time_end = '2016-05-31 17:00:00'\n",
    "for region in df.columns:   \n",
    "    \n",
    "    res = train_predict_xgboost(df.loc[:'2016-05-31 23:00:00'], \n",
    "                            train_time_end,  test_time_end, region, \n",
    "                            error_for_month, make_features_with_holidays_and_weather)\n",
    "    print(region,res)\n",
    "    Q_error += res"
   ]
  },
  {
   "cell_type": "markdown",
   "metadata": {},
   "source": [
    "![title](fun.png)"
   ]
  },
  {
   "cell_type": "markdown",
   "metadata": {},
   "source": [
    "Неплохой результат (съехал, увы, было 16.99) за страшное время. Сделаем то же самое для июня с сабмитом"
   ]
  },
  {
   "cell_type": "code",
   "execution_count": 77,
   "metadata": {},
   "outputs": [],
   "source": [
    "def train_predict_xgboost2(data, train_time_end, test_time_end, region, denom, f_make_features,\n",
    "                          pred_start='2016-05-01', pred_end='2016-05-31', degree=49,\n",
    "                          K_d=2, K_h=8):\n",
    "    \n",
    "    region_df = pd.DataFrame(data.loc[:test_time_end][str(region)].values, columns=['val'],\n",
    "                            index = data.loc[:test_time_end].index)\n",
    "       \n",
    "    abs_err_sum = 0\n",
    "    offset = max(24*K_d, K_h, 12)\n",
    "    \n",
    "    # create features\n",
    "    region_df = f_make_features(region_df, offset, degree, K_d, K_h)\n",
    "    \n",
    "    # submit\n",
    "    submit_ids = []\n",
    "    submit_preds = []\n",
    "    \n",
    "    for i in range(6):\n",
    "        # Training \n",
    "        train_length = data.loc[:train_time_end].shape[0] - i\n",
    "        X_train = region_df.iloc[offset:train_length].drop(['val'], axis=1)\n",
    "        y_train = region_df.iloc[offset + i + 1:train_length + i + 1].val\n",
    "        xgb_train = xgb.DMatrix(X_train, y_train)\n",
    " \n",
    "        params={\n",
    "            'max_depth': 6, \n",
    "            'eta': 0.05, \n",
    "            'colsample_bytree': 1,\n",
    "            \"min_child_weight\": 6, \n",
    "            'subsample': 0.8,\n",
    "            'gamma': 1, # L2\n",
    "            'alpha': 0.01, # L1\n",
    "            'objective': \"reg:linear\",\n",
    "            'eval_metric': 'mae',\n",
    "            'nthread': -1\n",
    "        }\n",
    "        evals = [(xgb_train, 'train')]\n",
    "        bst = xgb.train(params, xgb_train, num_boost_round=200, early_stopping_rounds=6, \n",
    "                        evals=evals, verbose_eval=False)\n",
    "       \n",
    "        # predictions\n",
    "        X_test= xgb.DMatrix(region_df[train_time_end:].drop(['val'], axis=1))\n",
    "        prediction = bst.predict(X_test)\n",
    "        \n",
    "        prediction[prediction < 0] = 0.0\n",
    "        \n",
    "        # 6 hours combinations\n",
    "        begin_hour = pred_start +' 0' + str(0 + i)+':00:00'\n",
    "        end_hour = pred_end + ' ' + str(18 + i) + ':00:00'\n",
    "        \n",
    "        error = denom * np.abs(prediction - data.loc[begin_hour:end_hour][str(region)].values)\n",
    "        abs_err_sum += error.sum()\n",
    "        \n",
    "        \n",
    "        indexes = region_df[train_time_end:].index \n",
    "        submit_ids.append((pd.Series([str(region)] * indexes.size) + '_' \n",
    "                           + list(map(lambda x: x.strftime('%Y-%m-%d'), indexes)) + '_' \\\n",
    "                            + list(map(lambda x: str(x.hour) + '_' + str(i+1), indexes))).values)\n",
    "        submit_preds.append(prediction)\n",
    " \n",
    "    del region_df\n",
    "    return abs_err_sum,submit_ids,submit_preds"
   ]
  },
  {
   "cell_type": "code",
   "execution_count": 57,
   "metadata": {},
   "outputs": [
    {
     "name": "stdout",
     "output_type": "stream",
     "text": [
      "0.103796181657\n",
      "Wall time: 2min 20s\n"
     ]
    }
   ],
   "source": [
    "%%time\n",
    "\n",
    "# проверка\n",
    "train_time_end = '2016-04-30 23:00:00'\n",
    "test_time_end = '2016-05-31 17:00:00'\n",
    "# base features + holidays + weather + xgboost\n",
    "err, submit_ids,submit_preds = train_predict_xgboost2(df.loc[:'2016-05-31 23:00:00'],\n",
    "                                    train_time_end, test_time_end, 1075, \n",
    "                                    error_for_month, make_features_with_holidays_and_weather)\n",
    "print (err)"
   ]
  },
  {
   "cell_type": "code",
   "execution_count": 78,
   "metadata": {
    "collapsed": true
   },
   "outputs": [],
   "source": [
    "# параметры для июня\n",
    "R = 102\n",
    "H = 715\n",
    "error_for_month = 1.0/(R*H*6)\n",
    "Q_error = 0\n",
    "submit_ids = []\n",
    "submit_preds = []\n",
    "\n",
    "train_time_end = '2016-05-31 23:00:00'\n",
    "test_time_end = '2016-06-30 17:00:00'"
   ]
  },
  {
   "cell_type": "code",
   "execution_count": 80,
   "metadata": {},
   "outputs": [
    {
     "name": "stdout",
     "output_type": "stream",
     "text": [
      "region: 1075, error: 0.109294, current_error: 0.109294\n",
      "region: 1076, error: 0.147705, current_error: 0.256999\n",
      "region: 1077, error: 0.121915, current_error: 0.378914\n",
      "region: 1125, error: 0.087326, current_error: 0.466240\n",
      "region: 1126, error: 0.196146, current_error: 0.662386\n",
      "region: 1127, error: 0.253442, current_error: 0.915828\n",
      "region: 1128, error: 0.280989, current_error: 1.196817\n",
      "region: 1129, error: 0.319057, current_error: 1.515874\n",
      "region: 1130, error: 0.414303, current_error: 1.930178\n",
      "region: 1131, error: 0.187232, current_error: 2.117410\n",
      "region: 1132, error: 0.124003, current_error: 2.241413\n",
      "region: 1172, error: 0.020459, current_error: 2.261872\n",
      "region: 1173, error: 0.051568, current_error: 2.313439\n",
      "region: 1174, error: 0.061087, current_error: 2.374527\n",
      "region: 1175, error: 0.036382, current_error: 2.410909\n",
      "region: 1176, error: 0.041876, current_error: 2.452785\n",
      "region: 1177, error: 0.282662, current_error: 2.735447\n",
      "region: 1178, error: 0.471888, current_error: 3.207335\n",
      "region: 1179, error: 0.407629, current_error: 3.614964\n",
      "region: 1180, error: 0.460286, current_error: 4.075250\n",
      "region: 1181, error: 0.663578, current_error: 4.738828\n",
      "region: 1182, error: 0.456223, current_error: 5.195051\n",
      "region: 1183, error: 0.171109, current_error: 5.366160\n",
      "region: 1184, error: 0.038386, current_error: 5.404545\n",
      "region: 1221, error: 0.024252, current_error: 5.428798\n",
      "region: 1222, error: 0.030788, current_error: 5.459585\n",
      "region: 1223, error: 0.041457, current_error: 5.501043\n",
      "region: 1224, error: 0.052760, current_error: 5.553803\n",
      "region: 1225, error: 0.022633, current_error: 5.576436\n",
      "region: 1227, error: 0.180732, current_error: 5.757167\n",
      "region: 1228, error: 0.302192, current_error: 6.059359\n",
      "region: 1229, error: 0.359986, current_error: 6.419345\n",
      "region: 1230, error: 0.513620, current_error: 6.932965\n",
      "region: 1231, error: 0.603960, current_error: 7.536925\n",
      "region: 1232, error: 0.605331, current_error: 8.142257\n",
      "region: 1233, error: 0.447334, current_error: 8.589591\n",
      "region: 1234, error: 0.313466, current_error: 8.903056\n",
      "region: 1235, error: 0.166388, current_error: 9.069444\n",
      "region: 1272, error: 0.025940, current_error: 9.095384\n",
      "region: 1273, error: 0.040248, current_error: 9.135632\n",
      "region: 1274, error: 0.021868, current_error: 9.157501\n",
      "region: 1278, error: 0.031230, current_error: 9.188731\n",
      "region: 1279, error: 0.053312, current_error: 9.242042\n",
      "region: 1280, error: 0.209363, current_error: 9.451406\n",
      "region: 1281, error: 0.548692, current_error: 10.000097\n",
      "region: 1282, error: 0.680428, current_error: 10.680525\n",
      "region: 1283, error: 0.258650, current_error: 10.939175\n",
      "region: 1284, error: 0.126914, current_error: 11.066089\n",
      "region: 1285, error: 0.285001, current_error: 11.351090\n",
      "region: 1286, error: 0.219286, current_error: 11.570376\n",
      "region: 1287, error: 0.090215, current_error: 11.660592\n",
      "region: 1326, error: 0.047132, current_error: 11.707724\n",
      "region: 1327, error: 0.063696, current_error: 11.771420\n",
      "region: 1331, error: 0.064091, current_error: 11.835511\n",
      "region: 1332, error: 0.259195, current_error: 12.094706\n",
      "region: 1333, error: 0.384608, current_error: 12.479314\n",
      "region: 1334, error: 0.399064, current_error: 12.878377\n",
      "region: 1335, error: 0.123179, current_error: 13.001556\n",
      "region: 1336, error: 0.087515, current_error: 13.089072\n",
      "region: 1337, error: 0.096738, current_error: 13.185810\n",
      "region: 1338, error: 0.088479, current_error: 13.274290\n",
      "region: 1339, error: 0.030837, current_error: 13.305127\n",
      "region: 1376, error: 0.032571, current_error: 13.337698\n",
      "region: 1377, error: 0.026840, current_error: 13.364538\n",
      "region: 1378, error: 0.023203, current_error: 13.387742\n",
      "region: 1380, error: 0.026782, current_error: 13.414523\n",
      "region: 1382, error: 0.040880, current_error: 13.455404\n",
      "region: 1383, error: 0.193764, current_error: 13.649167\n",
      "region: 1384, error: 0.358643, current_error: 14.007810\n",
      "region: 1385, error: 0.247789, current_error: 14.255599\n",
      "region: 1386, error: 0.077404, current_error: 14.333003\n",
      "region: 1387, error: 0.062090, current_error: 14.395093\n",
      "region: 1388, error: 0.056688, current_error: 14.451781\n",
      "region: 1389, error: 0.038288, current_error: 14.490069\n",
      "region: 1390, error: 0.039068, current_error: 14.529137\n",
      "region: 1426, error: 0.017383, current_error: 14.546520\n",
      "region: 1431, error: 0.049712, current_error: 14.596232\n",
      "region: 1434, error: 0.025123, current_error: 14.621355\n",
      "region: 1435, error: 0.029070, current_error: 14.650425\n",
      "region: 1436, error: 0.054643, current_error: 14.705068\n",
      "region: 1437, error: 0.080382, current_error: 14.785450\n",
      "region: 1438, error: 0.032809, current_error: 14.818259\n",
      "region: 1439, error: 0.025403, current_error: 14.843662\n",
      "region: 1441, error: 0.019210, current_error: 14.862872\n",
      "region: 1442, error: 0.026973, current_error: 14.889845\n",
      "region: 1480, error: 0.030037, current_error: 14.919882\n",
      "region: 1482, error: 0.028065, current_error: 14.947947\n",
      "region: 1483, error: 0.026294, current_error: 14.974241\n",
      "region: 1530, error: 0.032057, current_error: 15.006298\n",
      "region: 1532, error: 0.024180, current_error: 15.030478\n",
      "region: 1533, error: 0.030593, current_error: 15.061071\n",
      "region: 1580, error: 0.018678, current_error: 15.079749\n",
      "region: 1630, error: 0.018786, current_error: 15.098535\n",
      "region: 1684, error: 0.049078, current_error: 15.147613\n",
      "region: 1733, error: 0.020983, current_error: 15.168596\n",
      "region: 1734, error: 0.308655, current_error: 15.477251\n",
      "region: 1783, error: 0.324169, current_error: 15.801420\n",
      "region: 2068, error: 0.175467, current_error: 15.976888\n",
      "region: 2069, error: 0.051989, current_error: 16.028876\n",
      "region: 2118, error: 0.221964, current_error: 16.250841\n",
      "region: 2119, error: 0.259001, current_error: 16.509842\n",
      "region: 2168, error: 0.223390, current_error: 16.733232\n",
      "Wall time: 4h 30min 19s\n"
     ]
    }
   ],
   "source": [
    "%%time\n",
    "# ещё поднимем K_d до 7 (дневные лаги)\n",
    "for region in df.columns:\n",
    "    err, ids, pred = train_predict_xgboost2(df.loc[:'2016-06-30 23:00:00'], \n",
    "                                           train_time_end, test_time_end , region, error_for_month, \n",
    "                                           make_features_with_holidays_and_weather,\n",
    "                                           '2016-06-01', '2016-06-30', degree=49, K_d=7, K_h=8)\n",
    "     \n",
    "    Q_error += err\n",
    "    print ('region: %s, error: %f, current_error: %f' %(region, err, Q_error))\n",
    "    submit_ids.append(ids)\n",
    "    submit_preds.append(pred)"
   ]
  },
  {
   "cell_type": "code",
   "execution_count": 82,
   "metadata": {},
   "outputs": [],
   "source": [
    "pred_df = pd.DataFrame(np.array(submit_preds).ravel(), index=np.array(submit_ids).ravel(), columns=['y'])\n",
    "pred_df.index.name = 'id'\n",
    "pred_df.to_csv(\"w6.csv\", sep=',')"
   ]
  },
  {
   "cell_type": "markdown",
   "metadata": {},
   "source": [
    "![title](submit.png)"
   ]
  },
  {
   "cell_type": "markdown",
   "metadata": {},
   "source": [
    "Ссылка на лучший сабмит, считался 12 часов: https://inclass.kaggle.com/c/yellowtaxi/leaderboard?submissionId=5039542\n",
    "Улучшение составило ~3.5 относительно прошлой недели"
   ]
  }
 ],
 "metadata": {
  "anaconda-cloud": {},
  "kernelspec": {
   "display_name": "Python 3",
   "language": "python",
   "name": "python3"
  },
  "language_info": {
   "codemirror_mode": {
    "name": "ipython",
    "version": 3
   },
   "file_extension": ".py",
   "mimetype": "text/x-python",
   "name": "python",
   "nbconvert_exporter": "python",
   "pygments_lexer": "ipython3",
   "version": "3.6.0"
  }
 },
 "nbformat": 4,
 "nbformat_minor": 1
}
