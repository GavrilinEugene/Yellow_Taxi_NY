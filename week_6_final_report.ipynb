{
 "cells": [
  {
   "cell_type": "markdown",
   "metadata": {},
   "source": [
    "# Финальный отчёт"
   ]
  },
  {
   "cell_type": "markdown",
   "metadata": {},
   "source": [
    "Спустя столько времени построения моделей разными способами, захотелось вернуться к любимой теме потроения карт с предсказаниями.\n",
    "Так же в этом отчёте есть интерактивные графики, показывающие разницу между между реальным и предсказанным числом поездок.\n",
    "Данный функционал обновляется вместе с картой (по времени и региону).\n",
    "Далее можно посмотреть \n",
    "В заключение представлен скрипт, который может экспортировать графики в html (plotly).\n",
    "К сожалению с виджетами сделать этого не удалось.\n",
    "Проект представлен AS IS,при установке соответсвующих модулей, описанных ниже, ноутбук должен отработать.\n",
    "Примеры графиков представлены в final_report.html"
   ]
  },
  {
   "cell_type": "markdown",
   "metadata": {
    "collapsed": true
   },
   "source": [
    "### Необходимы модули (python 3.6):\n",
    "- карты ipyleaflet\n",
    "- интерактивные виджеты графиков plotly\n",
    "- виджеты ipywidgets"
   ]
  },
  {
   "cell_type": "code",
   "execution_count": 63,
   "metadata": {},
   "outputs": [],
   "source": [
    "import pandas as pd\n",
    "import numpy as np\n",
    "import matplotlib.pyplot as plt\n",
    "import seaborn as sns\n",
    "from datetime import datetime\n",
    "from datetime import timedelta\n",
    "\n",
    "# интерактивный график\n",
    "import plotly\n",
    "\n",
    "# отображение карт\n",
    "from ipyleaflet import (\n",
    "    Map,\n",
    "    Marker,\n",
    "    TileLayer, ImageOverlay,\n",
    "    Polyline, Polygon, Rectangle, Circle, CircleMarker,\n",
    "    GeoJSON,\n",
    "    DrawControl\n",
    ")\n",
    "\n",
    "from traitlets import link\n",
    "\n",
    "# виджеты\n",
    "from ipywidgets import interact, interactive, fixed\n",
    "from ipywidgets import widgets\n",
    "from IPython.display import display, clear_output, HTML\n",
    "\n",
    "# для регионов и их раскраски\n",
    "import geojson, json\n",
    "import branca.colormap as cm\n",
    "\n",
    "%matplotlib inline"
   ]
  },
  {
   "cell_type": "code",
   "execution_count": 64,
   "metadata": {},
   "outputs": [
    {
     "data": {
      "text/html": [
       "        <script type=\"text/javascript\">\n",
       "        window.PlotlyConfig = {MathJaxConfig: 'local'};\n",
       "        if (window.MathJax) {MathJax.Hub.Config({SVG: {font: \"STIX-Web\"}});}\n",
       "        if (typeof require !== 'undefined') {\n",
       "        require.undef(\"plotly\");\n",
       "        requirejs.config({\n",
       "            paths: {\n",
       "                'plotly': ['https://cdn.plot.ly/plotly-latest.min']\n",
       "            }\n",
       "        });\n",
       "        require(['plotly'], function(Plotly) {\n",
       "            window._Plotly = Plotly;\n",
       "        });\n",
       "        }\n",
       "        </script>\n",
       "        "
      ]
     },
     "metadata": {},
     "output_type": "display_data"
    }
   ],
   "source": [
    "plotly.offline.init_notebook_mode(connected=True)"
   ]
  },
  {
   "cell_type": "markdown",
   "metadata": {},
   "source": [
    "Границы Нью-Йорка"
   ]
  },
  {
   "cell_type": "code",
   "execution_count": 65,
   "metadata": {},
   "outputs": [],
   "source": [
    "ny_west = -74.25559\n",
    "ny_east = -73.70001\n",
    "ny_north = 40.91553\n",
    "ny_south = 40.49612"
   ]
  },
  {
   "cell_type": "code",
   "execution_count": 66,
   "metadata": {},
   "outputs": [],
   "source": [
    "current_values = {}\n",
    "true_values = []\n",
    "pred_values = []\n",
    "selected_region = 1075"
   ]
  },
  {
   "cell_type": "markdown",
   "metadata": {},
   "source": [
    "Загружаем данные о регионах, о фактических поездках и предсказания построенные с помощью регрессоров."
   ]
  },
  {
   "cell_type": "code",
   "execution_count": 67,
   "metadata": {},
   "outputs": [],
   "source": [
    "# geojson данных прогнозируемых регионов\n",
    "with open(\"processed_data/regions.json\", \"r\") as fid:\n",
    "    geo_data = json.load(fid)\n",
    "    geo_data_pred = geo_data.copy()    \n",
    "g_true = GeoJSON(data=geo_data)\n",
    "g_pred = GeoJSON(data=geo_data_pred)"
   ]
  },
  {
   "cell_type": "code",
   "execution_count": 68,
   "metadata": {},
   "outputs": [],
   "source": [
    "# данные о поездках из регионов\n",
    "data = pd.read_csv(\"processed_data/all_trip_data.csv\", index_col='time')\n",
    "data.index = pd.to_datetime(data.index)"
   ]
  },
  {
   "cell_type": "code",
   "execution_count": 69,
   "metadata": {},
   "outputs": [],
   "source": [
    "# список регионов\n",
    "regions = data.columns.astype(int).tolist()"
   ]
  },
  {
   "cell_type": "code",
   "execution_count": 70,
   "metadata": {},
   "outputs": [],
   "source": [
    "# центры регионов\n",
    "regions_pos = pd.read_csv(\"raw_data/regions.csv\", sep=\";\", index_col=['region'])\n",
    "regions_pos['center_lat'] = (regions_pos['north'] + regions_pos['south'])/2\n",
    "regions_pos['center_lon'] = (regions_pos['east'] + regions_pos['west'])/2"
   ]
  },
  {
   "cell_type": "code",
   "execution_count": 71,
   "metadata": {},
   "outputs": [],
   "source": [
    "# Данные за июнь\n",
    "df = data['2016-05-31 23:00:00':]"
   ]
  },
  {
   "cell_type": "code",
   "execution_count": 72,
   "metadata": {},
   "outputs": [],
   "source": [
    "# загружаем предсказания\n",
    "data_submit = pd.read_csv(\"submitions/w6_best.csv\")\n",
    "\n",
    "id_submit = data_submit.id.apply(lambda x: x.split(\"_\"))\n",
    "data_pred = pd.DataFrame({'y': data_submit.y,\n",
    "                          'region': [x[0] for x in id_submit],\n",
    "                          'date': [x[1] for x in id_submit],\n",
    "                          'hour': [x[2] for x in id_submit],\n",
    "                          'hour_pred': [x[3] for x in id_submit]})"
   ]
  },
  {
   "cell_type": "code",
   "execution_count": 73,
   "metadata": {},
   "outputs": [],
   "source": [
    "data_pred = data_pred.groupby(['region','date','hour','hour_pred']).y.mean().reset_index()"
   ]
  },
  {
   "cell_type": "code",
   "execution_count": 74,
   "metadata": {},
   "outputs": [],
   "source": [
    "# Аггрегируем данные по часам, регионам, датам\n",
    "hourly_data = data_pred.groupby(by=['region', 'date', 'hour'])\n",
    "\n",
    "region_data = data_pred.groupby(by=['region', 'hour_pred'])\n",
    "\n",
    "date_data = data_pred.groupby(by=['date', 'hour', 'hour_pred'])"
   ]
  },
  {
   "cell_type": "code",
   "execution_count": 75,
   "metadata": {},
   "outputs": [],
   "source": [
    "# Функция для обработки пользовательских событий\n",
    "def dateChanged(change):\n",
    "    pass\n",
    "\n",
    "def printRegion(event=None, id=None, properties=None):\n",
    "    label_current.value = u\"Регион: \" + properties['region']\n",
    "    \n",
    "def printRegionPred(event=None, id=None, properties=None):\n",
    "    global selected_region\n",
    "    region = properties['region']\n",
    "    label_region_clicked.value = u\"Регион: \" + region\n",
    "    label_current.value = u\"Текущее значение: \" + str(current_values.loc[region])\n",
    "    label_true.value = u\"Через \" + str(prediction_hour_slider.value) + u\" часа(ов): \" + str(true_values.loc[region])\n",
    "    label_pred.value = u\"Предсказание: \" + str(pred_values.loc[region])\n",
    "    \n",
    "    show_graph(int(region), prediction_hour_slider.value)\n",
    "    selected_region = region\n",
    "    \n",
    "def on_pred_hour_changed(change):\n",
    "    global selected_region\n",
    "    if selected_region is not None:\n",
    "        show_graph(int(selected_region), prediction_hour_slider.value)\n",
    "\n",
    "def update_colors(geo_json_data, data_values, color_function):\n",
    "    for feature, value in zip(geo_json_data['features'], data_values):\n",
    "        feature['properties']['style'] = {'color':'black', 'weight': 1, 'fillColor':color_function(value), 'fillOpacity':0.4}\n",
    "\n",
    "def region_selected(change):\n",
    "    region = int(change['new'])\n",
    "    ny_map_real.center = (regions_pos.loc[region, 'center_lat'], regions_pos.loc[region, 'center_lon'])\n",
    "    ny_map_real.zoom = 14\n",
    "        "
   ]
  },
  {
   "cell_type": "code",
   "execution_count": 100,
   "metadata": {},
   "outputs": [],
   "source": [
    "def setLayout(change):\n",
    "    global g_true\n",
    "    global g_pred\n",
    "    global current_values, true_values, pred_values\n",
    "    \n",
    "    # Checking date\n",
    "    if date_selector_map.value.to_pydatetime() == datetime(year=2016, month=5, day=31) and hour_selector_map.value != 23:\n",
    "        hour_selector_map.set_trait('value', 23)\n",
    "        return\n",
    "    if date_selector_map.value.to_pydatetime() == datetime(year=2016, month=6, day=30) and hour_selector_map.value > 17:\n",
    "        hour_selector_map.set_trait('value', 17)\n",
    "        return\n",
    "    # удаляем старый слой, вставляя новый\n",
    "    try:\n",
    "        ny_map_real.remove_layer(g_true)\n",
    "        ny_map_pred.remove_layer(g_pred)\n",
    "    except:\n",
    "        pass\n",
    "    finally:\n",
    "        \n",
    "        if selected_region is not None:\n",
    "            show_graph(int(selected_region), prediction_hour_slider.value)\n",
    "        hour_horizon = prediction_hour_slider.value\n",
    "        td = date_selector_map.value\n",
    "        current_hour = hour_selector_map.value\n",
    "        \n",
    "        current_date = pd.DatetimeIndex([td.to_pydatetime().replace(hour=current_hour)], freq='H')[0]\n",
    "        \n",
    "        # \n",
    "        current_values = df.loc[current_date]\n",
    "        true_values = df.loc[current_date+hour_horizon]\n",
    "        pred_values = date_data.get_group((td.strftime('%Y-%m-%d'), str(current_hour), str(hour_horizon)))\n",
    "        pred_values = pred_values.set_index('region')\n",
    "        pred_values = pred_values.y\n",
    "        \n",
    "        # цвета регионов\n",
    "        c_v_max, c_v_min = current_values.max(), current_values.min()\n",
    "        t_v_max, t_v_min = true_values.max(), true_values.min()\n",
    "        p_v_max, p_v_min = pred_values.max(), pred_values.min()\n",
    "        vmax = max(c_v_max, t_v_max, p_v_max)\n",
    "        vmin = max(c_v_min, t_v_min, p_v_min)\n",
    "        width = vmax - vmin\n",
    "        c_func = cm.LinearColormap(['green', 'yellow','red'],\n",
    "                                   vmax = vmax, \n",
    "                                   vmin = vmin,\n",
    "                                   index=[vmin, 0.5*width, 1.0*vmax])\n",
    "        \n",
    "        # geojson data\n",
    "        update_colors(geo_data, current_values.values, c_func)\n",
    "        update_colors(geo_data_pred, pred_values.values, c_func)\n",
    "        \n",
    "        g_true = GeoJSON(data=geo_data, hover_style={'fillColor': 'blue'})\n",
    "        g_pred = GeoJSON(data=geo_data_pred, hover_style={'fillColor': 'blue'})\n",
    "        \n",
    "        # взаимосвязь с регионами\n",
    "        g_true.on_hover(printRegionPred)\n",
    "        g_pred.on_hover(printRegionPred)\n",
    "#         g_true.on_click(printRegionPred)\n",
    "#         g_pred.on_click(printRegionPred)\n",
    "        \n",
    "        ny_map_real.add_layer(g_true)\n",
    "        ny_map_pred.add_layer(g_pred)"
   ]
  },
  {
   "cell_type": "code",
   "execution_count": 101,
   "metadata": {},
   "outputs": [],
   "source": [
    "# отображение интерактивного графика. Есть возможность сохранения\n",
    "def show_graph(region, pred_hour):\n",
    "    global first_plot_url\n",
    "    ow.clear_output()\n",
    "    tup = (str(region), str(pred_hour))\n",
    "    with ow:\n",
    "        t = df.index[int(pred_hour):]\n",
    "        graph1 = plotly.graph_objs.Scatter(x=t, \n",
    "                        y=df[str(region)].iloc[int(pred_hour):],\n",
    "                        name = 'true',\n",
    "                        mode = 'lines',\n",
    "                        opacity = 1\n",
    "                       )\n",
    "        graph2 = plotly.graph_objs.Scatter(x=t,\n",
    "                           y=region_data.get_group(tup).y,\n",
    "                           name = 'forecast',\n",
    "                           mode = 'lines',\n",
    "                           opacity = 1)\n",
    "\n",
    "        layout = dict(title=u\"Предсказание для региона \" + str(region))\n",
    "        plotly.offline.iplot({'data': [graph1, graph2], 'layout': layout})\n",
    "        first_plot_url = plotly.plotly.plot([graph1, graph2], filename='region sample', auto_open=False,)"
   ]
  },
  {
   "cell_type": "code",
   "execution_count": 102,
   "metadata": {},
   "outputs": [],
   "source": [
    "# объект для отображения интерактивных графиков, он формируется в функции setlayout\n",
    "ow = widgets.Output()"
   ]
  },
  {
   "cell_type": "code",
   "execution_count": 103,
   "metadata": {},
   "outputs": [],
   "source": [
    "# Создаем интерфейс, контроллеры\n",
    "# region_selector_map = widgets.Dropdown(options=regions, value=1075, description=u\"Регион\")\n",
    "# region_selector_map.observe(region_selected, names=\"value\")\n",
    "\n",
    "# настройка слайдеров по дням\n",
    "time_june = pd.date_range('2016-05-31 00:00:00', '2016-06-30 17:00:00', freq='D')\n",
    "date_selector_map = widgets.SelectionSlider(\n",
    "                                        description=u'Дата',\n",
    "                                        options=[(item.strftime('%Y-%m-%d'),item) for item in time_june],\n",
    "                                        continuous_update=False\n",
    "                                        )\n",
    "\n",
    "# настройка слайдеров по часам\n",
    "date_selector_map.observe(setLayout, names=\"value\")\n",
    "hour_selector_map = widgets.SelectionSlider(description=u\"Час\",\n",
    "                                       options=[(item, item) for item in range(24)],\n",
    "                                       continuous_update=False,\n",
    "                                       value=23)\n",
    "hour_selector_map.observe(setLayout, names=\"value\")\n",
    "\n",
    "# настройка слайдеров для предсказаний\n",
    "prediction_hour_slider = widgets.SelectionSlider(description=u\"Предсказание\",\n",
    "                                                 options=[(item, item) for item in range(1,7)],\n",
    "                                                 continuous_update=False,\n",
    "                                                 value=1)\n",
    "prediction_hour_slider.observe(setLayout, names=\"value\")\n",
    "prediction_hour_slider.observe(on_pred_hour_changed, names=\"value\")"
   ]
  },
  {
   "cell_type": "code",
   "execution_count": 104,
   "metadata": {
    "scrolled": true
   },
   "outputs": [],
   "source": [
    "# Создаем карты и интерфейс\n",
    "ny_map_real = Map(center=((ny_south + ny_north)/2, (ny_east + ny_west)/2),\n",
    "                zoom=11)\n",
    "ny_map_pred = Map(center=((ny_south + ny_north)/2, (ny_east + ny_west)/2),\n",
    "                zoom=11)\n",
    "\n",
    "# соединяем две карты вместе\n",
    "map_center_link = link((ny_map_real, 'center'), (ny_map_pred, 'center'))\n",
    "map_zoom_link = link((ny_map_real, 'zoom'), (ny_map_pred, 'zoom'))\n",
    "\n",
    "box_layout = widgets.Layout(display='flex',\n",
    "                            flex_flow='column',\n",
    "                            width='50%')\n",
    "\n",
    "# виджеты для выбранных регионов\n",
    "label_region_clicked = widgets.Text(width='100%', disabled=True)\n",
    "label_current = widgets.Text(width='100%', disabled=True)\n",
    "label_true = widgets.Text(width='100%', disabled=True)\n",
    "label_pred = widgets.Text(width='100%', disabled=True)\n",
    "layout_true_pred = widgets.HBox(children=[label_region_clicked, label_current, label_true, label_pred])\n",
    "\n",
    "# map_label_real = widgets.VBox([widgets.Text(u'Реальное число поездок', disabled=True), ny_map_real], layout=box_layout)\n",
    "# map_label_pred = widgets.VBox([widgets.Text(u'Предсказанное число поездок', disabled=True), ny_map_pred], layout=box_layout)\n",
    "\n",
    "maps_widget = widgets.HBox(children=[ny_map_real, ny_map_pred])\n",
    "setLayout(0)\n",
    "\n",
    "controllers = widgets.VBox(children=[date_selector_map, hour_selector_map, prediction_hour_slider])"
   ]
  },
  {
   "cell_type": "code",
   "execution_count": 105,
   "metadata": {
    "scrolled": false
   },
   "outputs": [
    {
     "data": {
      "application/vnd.jupyter.widget-view+json": {
       "model_id": "d5eaa41084944a7597e5a7ad40afba57",
       "version_major": 2,
       "version_minor": 0
      },
      "text/plain": [
       "VBox(children=(HBox(children=(Text(value='', disabled=True), Text(value='', disabled=True), Text(value='', dis…"
      ]
     },
     "metadata": {},
     "output_type": "display_data"
    }
   ],
   "source": [
    "widgets.VBox(children=[layout_true_pred, controllers, maps_widget])"
   ]
  },
  {
   "cell_type": "markdown",
   "metadata": {},
   "source": [
    "Далее приводится два графика: на одном отображается фактическое число поездок в выбранном на карте, которая представлена ниже, регионе, на другом - предсказанное регрессором, который делает предсказание на выбранное число часов вперед. Соответсвенно на этом рисунке мы можем посмотреть на сколько сильно ошибается регрессор."
   ]
  },
  {
   "cell_type": "code",
   "execution_count": 106,
   "metadata": {},
   "outputs": [
    {
     "data": {
      "application/vnd.jupyter.widget-view+json": {
       "model_id": "3e3be62c648640cfaf032ed98dcc7e96",
       "version_major": 2,
       "version_minor": 0
      },
      "text/plain": [
       "Output()"
      ]
     },
     "metadata": {},
     "output_type": "display_data"
    }
   ],
   "source": [
    "ow = widgets.Output()\n",
    "display(ow)"
   ]
  },
  {
   "cell_type": "markdown",
   "metadata": {},
   "source": [
    "На следующем интерактивном рисунке можно выбирать регион, дату и час дня, при этом для выбранных параметров будет отображаться предсказанные на 6 часов вперед и фактические значения числа поездок."
   ]
  },
  {
   "cell_type": "code",
   "execution_count": 107,
   "metadata": {},
   "outputs": [],
   "source": [
    "def change_region(change, date, hour):\n",
    "    global second_plot_url\n",
    "    \n",
    "    print(date.to_pydatetime().replace(hour=hour))\n",
    "    if date.to_pydatetime() == datetime(year=2016, month=5, day=31) and hour != 23:\n",
    "        hour_selector.set_trait('value', 23)\n",
    "        return\n",
    "    if date.to_pydatetime() == datetime(year=2016, month=6, day=30) and hour > 17:\n",
    "        hour_selector.set_trait('value', 17)\n",
    "        return\n",
    "    t = pd.date_range(date.replace(hour=hour), periods=7, freq='H')[1:]\n",
    "    pred = hourly_data.get_group((str(change), date.strftime('%Y-%m-%d'), str(hour)))\n",
    "\n",
    "    layout = dict(title=u\"Предсказание на 6 часов вперед\")\n",
    "\n",
    "    graph1 = plotly.graph_objs.Scatter(x=t, \n",
    "                        y=df[str(change)].loc[t],\n",
    "                        name = 'true',\n",
    "                        mode = 'lines+markers'\n",
    "                       )\n",
    "\n",
    "    graph2 = plotly.graph_objs.Scatter(x=t,\n",
    "                        y=pred.y,\n",
    "                        name = 'forecast',\n",
    "                        mode = 'lines+markers'\n",
    "                       )\n",
    "\n",
    "    plotly.offline.iplot({'data': [graph1, graph2], 'layout': layout})\n",
    "    second_plot_url = plotly.plotly.plot([graph1, graph2], filename='predict 6 next hours', auto_open=False,)\n",
    "    print (second_plot_url)"
   ]
  },
  {
   "cell_type": "code",
   "execution_count": 108,
   "metadata": {},
   "outputs": [
    {
     "data": {
      "application/vnd.jupyter.widget-view+json": {
       "model_id": "05d95fb9ca544a82a8f7a546fe432b1b",
       "version_major": 2,
       "version_minor": 0
      },
      "text/plain": [
       "interactive(children=(Dropdown(description='Регион', options=(1075, 1076, 1077, 1125, 1126, 1127, 1128, 1129, …"
      ]
     },
     "metadata": {},
     "output_type": "display_data"
    }
   ],
   "source": [
    "region_selector = widgets.Dropdown(options=regions, value=1075, description=u\"Регион\")\n",
    "time_june = pd.date_range('2016-05-31 00:00:00', '2016-06-30 17:00:00', freq='D')\n",
    "date_selector = widgets.SelectionSlider(\n",
    "                                        description=u'Дата',\n",
    "                                        options=[(item.strftime('%Y-%m-%d'),item) for item in time_june],\n",
    "                                        continuous_update=False\n",
    "                                        )\n",
    "hour_selector = widgets.SelectionSlider(description=u\"Час\",\n",
    "                                       options=[(item, item) for item in range(24)],\n",
    "                                       continuous_update=False)\n",
    "interact(change_region, change=region_selector, date=date_selector, hour=hour_selector);"
   ]
  }
 ],
 "metadata": {
  "anaconda-cloud": {},
  "kernelspec": {
   "display_name": "Python 3",
   "language": "python",
   "name": "python3"
  },
  "language_info": {
   "codemirror_mode": {
    "name": "ipython",
    "version": 3
   },
   "file_extension": ".py",
   "mimetype": "text/x-python",
   "name": "python",
   "nbconvert_exporter": "python",
   "pygments_lexer": "ipython3",
   "version": "3.7.1"
  }
 },
 "nbformat": 4,
 "nbformat_minor": 1
}
