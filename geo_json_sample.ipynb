{
 "cells": [
  {
   "cell_type": "code",
   "execution_count": 38,
   "metadata": {},
   "outputs": [],
   "source": [
    "from ipyleaflet import Map, GeoJSON\n",
    "import json\n",
    "import os\n",
    "import requests\n",
    "import pandas as pd\n",
    "  "
   ]
  },
  {
   "cell_type": "code",
   "execution_count": 104,
   "metadata": {},
   "outputs": [],
   "source": [
    "regions = pd.read_csv('raw_data/regions.csv', sep =';')\n",
    "data = pd.read_csv(\"processed_data/all_trip_data.csv\", index_col='time')\n",
    "significant_regions = data.columns\n",
    "regions = regions[regions['region'].isin(significant_regions)]"
   ]
  },
  {
   "cell_type": "code",
   "execution_count": 114,
   "metadata": {},
   "outputs": [],
   "source": [
    "def df_to_geojson(df, properties, lat='latitude', lon='longitude'):\n",
    "    geojson = {'type':'FeatureCollection', 'features':[]}\n",
    "    for i in df_1.region.unique():\n",
    "        dd = df_1[df_1['region'] == i]\n",
    "        feature = {'type':'Feature',\n",
    "           'properties':{},\n",
    "           'geometry':{'type':'Polygon',\n",
    "                       'coordinates':[]}}\n",
    "        feature['geometry']['coordinates'] = [list(zip(dd['lon'].values, dd['lat'].values))]\n",
    "        feature['properties'][properties] = str(i)\n",
    "        feature['properties']['style'] = {'color':'black', 'weight': 1, 'fillOpacity':0.4}\n",
    "        geojson['features'].append(feature)\n",
    "    return geojson"
   ]
  },
  {
   "cell_type": "code",
   "execution_count": 115,
   "metadata": {
    "scrolled": true
   },
   "outputs": [],
   "source": [
    "first = regions[['region', 'west', 'south']].copy()\n",
    "first.columns = ['region', 'lon', 'lat']\n",
    "first['order'] = 1\n",
    "second = regions[['region', 'east', 'south']].copy()\n",
    "second.columns = ['region', 'lon', 'lat']\n",
    "second['order'] = 2\n",
    "third = regions[['region', 'east', 'north']].copy()\n",
    "third.columns = ['region', 'lon', 'lat']\n",
    "third['order'] = 3\n",
    "forth = regions[['region', 'west', 'north']].copy()\n",
    "forth.columns = ['region', 'lon', 'lat']\n",
    "forth['order'] = 4"
   ]
  },
  {
   "cell_type": "code",
   "execution_count": 122,
   "metadata": {},
   "outputs": [],
   "source": [
    "df_1 = pd.concat([first, second, third, forth])\n",
    "df_1 = df_1.sort_values(by = ['region', 'order']).reset_index(drop=True)\n",
    "g_json = df_to_geojson(df_1.head(12), properties = 'region', lat='lat', lon='lon')\n",
    "geojson_str = json.dumps(g_json, indent=2)"
   ]
  },
  {
   "cell_type": "code",
   "execution_count": 128,
   "metadata": {},
   "outputs": [],
   "source": [
    "output_filename = 'processed_data/regions.json'\n",
    "with open(output_filename, \"w\") as output_file:\n",
    "    output_file.write(geojson_str)\n",
    "#     output_file.write('{} '.format(geojson_str))"
   ]
  },
  {
   "cell_type": "code",
   "execution_count": null,
   "metadata": {},
   "outputs": [],
   "source": []
  }
 ],
 "metadata": {
  "kernelspec": {
   "display_name": "Python 3",
   "language": "python",
   "name": "python3"
  },
  "language_info": {
   "codemirror_mode": {
    "name": "ipython",
    "version": 3
   },
   "file_extension": ".py",
   "mimetype": "text/x-python",
   "name": "python",
   "nbconvert_exporter": "python",
   "pygments_lexer": "ipython3",
   "version": "3.7.1"
  }
 },
 "nbformat": 4,
 "nbformat_minor": 2
}
