{
 "cells": [
  {
   "cell_type": "code",
   "execution_count": 2,
   "metadata": {},
   "outputs": [
    {
     "name": "stdout",
     "output_type": "stream",
     "text": [
      "Populating the interactive namespace from numpy and matplotlib\n"
     ]
    }
   ],
   "source": [
    "import numpy as np\n",
    "import pandas as pd\n",
    "import math\n",
    "import matplotlib.pyplot as plt\n",
    "%pylab inline\n",
    "import warnings\n",
    "import os\n",
    "import xgboost as xgb"
   ]
  },
  {
   "cell_type": "markdown",
   "metadata": {},
   "source": [
    "### Функции предобработок (с предыдущих недель)"
   ]
  },
  {
   "cell_type": "code",
   "execution_count": 3,
   "metadata": {},
   "outputs": [],
   "source": [
    "# выбор тех регионов, из которых в среднем осущесвтляется больше 5 поездок\n",
    "def chose_refions_with_rides(df):\n",
    "    df.index = pd.to_datetime(df.index)\n",
    "    \n",
    "    # выделяем час из даты\n",
    "    df['pickup_data'] = df.index\n",
    "    df['pickup_hour'] = df['pickup_data'].dt.hour\n",
    "\n",
    "    # число дней в месяце\n",
    "    days_in_month = df['pickup_data'][0].days_in_month\n",
    "    df = df.drop('pickup_data',axis = 1)\n",
    "    # групируем число поездок по часам\n",
    "    rides_in_hour =[]\n",
    "    for i in range(0,24):\n",
    "        rides_in_hour.append(df[df['pickup_hour']  == i].sum())\n",
    "\n",
    "    df_hours = pd.DataFrame(rides_in_hour)\n",
    "    df_hours = df_hours.drop('pickup_hour',axis = 1)\n",
    "    \n",
    "    means = df_hours.apply(np.mean)\n",
    "    return np.array(means[(means/days_in_month > 5)].index)"
   ]
  },
  {
   "cell_type": "code",
   "execution_count": 4,
   "metadata": {},
   "outputs": [],
   "source": [
    "# сведение всех данных в одну таблицу\n",
    "def read_region_from_data(dataDir, start_year, start_month, last_year, last_month, columns):\n",
    "    columns = np.append(columns,'Unnamed: 0')\n",
    "    month = start_month\n",
    "    year = start_year\n",
    "\n",
    "    df = pd.DataFrame()\n",
    "    while os.path.exists(dataDir + '/trip_count_%d-%02d.csv'% (year, month) ):  \n",
    "        \n",
    "        month_data = pd.read_csv(dataDir + '/trip_count_%d-%02d.csv' % (year, month), usecols = columns)       \n",
    "        month_data.set_index(['Unnamed: 0'], inplace=True)      \n",
    "        df = pd.concat((df,month_data), axis = 0)\n",
    "        # Return on last month and year\n",
    "        if (month == last_month and year == last_year):\n",
    "            df.index.name = 'time'\n",
    "            \n",
    "            df.index = pd.to_datetime(df.index)\n",
    "            return df\n",
    "\n",
    "        # Increment month\n",
    "        if (month == 12):\n",
    "            month = 1\n",
    "            year += 1\n",
    "        else:\n",
    "            month += 1\n",
    "        "
   ]
  },
  {
   "cell_type": "markdown",
   "metadata": {},
   "source": [
    "### Получение итоговой таблицы поездок (с предыдущей недели)\n",
    "(с вычетом непопулярных регионов, определённых по маю 2016г)\n"
   ]
  },
  {
   "cell_type": "code",
   "execution_count": 5,
   "metadata": {},
   "outputs": [],
   "source": [
    "filename = 'trip_count_2016-05.csv'\n",
    "dataFolder = 'processed_data'\n",
    "    \n",
    "df = pd.read_csv(dataFolder+ '/' + filename, index_col = 0)\n",
    "df.index = pd.to_datetime(df.index)\n",
    "region_columns = chose_refions_with_rides(df)"
   ]
  },
  {
   "cell_type": "code",
   "execution_count": 6,
   "metadata": {},
   "outputs": [],
   "source": [
    "data = read_region_from_data(dataFolder, 2016, 1, 2016, 6, region_columns)"
   ]
  },
  {
   "cell_type": "code",
   "execution_count": 7,
   "metadata": {},
   "outputs": [],
   "source": [
    "# преобразуем данные\n",
    "regions_data = data.stack().reset_index()\n",
    "regions_data.columns = ['time', 'region','count']\n",
    "regions_data.region = pd.to_numeric(regions_data.region)\n",
    "regions_data.count = pd.to_numeric(regions_data.region)"
   ]
  },
  {
   "cell_type": "markdown",
   "metadata": {},
   "source": [
    "### Сформируем 6 выборок"
   ]
  },
  {
   "cell_type": "code",
   "execution_count": 8,
   "metadata": {},
   "outputs": [],
   "source": [
    "regions_data['y1']=regions_data.groupby(['region'])['count'].shift(-1)\n",
    "regions_data['y2']=regions_data.groupby(['region'])['count'].shift(-2)\n",
    "regions_data['y3']=regions_data.groupby(['region'])['count'].shift(-3)\n",
    "regions_data['y4']=regions_data.groupby(['region'])['count'].shift(-4)\n",
    "regions_data['y5']=regions_data.groupby(['region'])['count'].shift(-5)\n",
    "regions_data['y6']=regions_data.groupby(['region'])['count'].shift(-6)"
   ]
  },
  {
   "cell_type": "code",
   "execution_count": 9,
   "metadata": {},
   "outputs": [],
   "source": [
    "# добавим колонку row для ввода признаков регрессионных моделей \n",
    "regions_data=regions_data.sort_values(['region', 'time'])\n",
    "regions_data['row']=regions_data.groupby(['region'])['time'].rank(ascending=1)"
   ]
  },
  {
   "cell_type": "code",
   "execution_count": 10,
   "metadata": {},
   "outputs": [
    {
     "data": {
      "text/html": [
       "<div>\n",
       "<style scoped>\n",
       "    .dataframe tbody tr th:only-of-type {\n",
       "        vertical-align: middle;\n",
       "    }\n",
       "\n",
       "    .dataframe tbody tr th {\n",
       "        vertical-align: top;\n",
       "    }\n",
       "\n",
       "    .dataframe thead th {\n",
       "        text-align: right;\n",
       "    }\n",
       "</style>\n",
       "<table border=\"1\" class=\"dataframe\">\n",
       "  <thead>\n",
       "    <tr style=\"text-align: right;\">\n",
       "      <th></th>\n",
       "      <th>time</th>\n",
       "      <th>region</th>\n",
       "      <th>count</th>\n",
       "      <th>y1</th>\n",
       "      <th>y2</th>\n",
       "      <th>y3</th>\n",
       "      <th>y4</th>\n",
       "      <th>y5</th>\n",
       "      <th>y6</th>\n",
       "      <th>row</th>\n",
       "    </tr>\n",
       "  </thead>\n",
       "  <tbody>\n",
       "    <tr>\n",
       "      <th>0</th>\n",
       "      <td>2016-01-01 00:00:00</td>\n",
       "      <td>1075</td>\n",
       "      <td>80</td>\n",
       "      <td>91.0</td>\n",
       "      <td>90.0</td>\n",
       "      <td>32.0</td>\n",
       "      <td>24.0</td>\n",
       "      <td>11.0</td>\n",
       "      <td>7.0</td>\n",
       "      <td>1.0</td>\n",
       "    </tr>\n",
       "    <tr>\n",
       "      <th>102</th>\n",
       "      <td>2016-01-01 01:00:00</td>\n",
       "      <td>1075</td>\n",
       "      <td>91</td>\n",
       "      <td>90.0</td>\n",
       "      <td>32.0</td>\n",
       "      <td>24.0</td>\n",
       "      <td>11.0</td>\n",
       "      <td>7.0</td>\n",
       "      <td>9.0</td>\n",
       "      <td>2.0</td>\n",
       "    </tr>\n",
       "    <tr>\n",
       "      <th>204</th>\n",
       "      <td>2016-01-01 02:00:00</td>\n",
       "      <td>1075</td>\n",
       "      <td>90</td>\n",
       "      <td>32.0</td>\n",
       "      <td>24.0</td>\n",
       "      <td>11.0</td>\n",
       "      <td>7.0</td>\n",
       "      <td>9.0</td>\n",
       "      <td>18.0</td>\n",
       "      <td>3.0</td>\n",
       "    </tr>\n",
       "    <tr>\n",
       "      <th>306</th>\n",
       "      <td>2016-01-01 03:00:00</td>\n",
       "      <td>1075</td>\n",
       "      <td>32</td>\n",
       "      <td>24.0</td>\n",
       "      <td>11.0</td>\n",
       "      <td>7.0</td>\n",
       "      <td>9.0</td>\n",
       "      <td>18.0</td>\n",
       "      <td>22.0</td>\n",
       "      <td>4.0</td>\n",
       "    </tr>\n",
       "    <tr>\n",
       "      <th>408</th>\n",
       "      <td>2016-01-01 04:00:00</td>\n",
       "      <td>1075</td>\n",
       "      <td>24</td>\n",
       "      <td>11.0</td>\n",
       "      <td>7.0</td>\n",
       "      <td>9.0</td>\n",
       "      <td>18.0</td>\n",
       "      <td>22.0</td>\n",
       "      <td>27.0</td>\n",
       "      <td>5.0</td>\n",
       "    </tr>\n",
       "    <tr>\n",
       "      <th>510</th>\n",
       "      <td>2016-01-01 05:00:00</td>\n",
       "      <td>1075</td>\n",
       "      <td>11</td>\n",
       "      <td>7.0</td>\n",
       "      <td>9.0</td>\n",
       "      <td>18.0</td>\n",
       "      <td>22.0</td>\n",
       "      <td>27.0</td>\n",
       "      <td>54.0</td>\n",
       "      <td>6.0</td>\n",
       "    </tr>\n",
       "    <tr>\n",
       "      <th>612</th>\n",
       "      <td>2016-01-01 06:00:00</td>\n",
       "      <td>1075</td>\n",
       "      <td>7</td>\n",
       "      <td>9.0</td>\n",
       "      <td>18.0</td>\n",
       "      <td>22.0</td>\n",
       "      <td>27.0</td>\n",
       "      <td>54.0</td>\n",
       "      <td>91.0</td>\n",
       "      <td>7.0</td>\n",
       "    </tr>\n",
       "    <tr>\n",
       "      <th>714</th>\n",
       "      <td>2016-01-01 07:00:00</td>\n",
       "      <td>1075</td>\n",
       "      <td>9</td>\n",
       "      <td>18.0</td>\n",
       "      <td>22.0</td>\n",
       "      <td>27.0</td>\n",
       "      <td>54.0</td>\n",
       "      <td>91.0</td>\n",
       "      <td>147.0</td>\n",
       "      <td>8.0</td>\n",
       "    </tr>\n",
       "    <tr>\n",
       "      <th>816</th>\n",
       "      <td>2016-01-01 08:00:00</td>\n",
       "      <td>1075</td>\n",
       "      <td>18</td>\n",
       "      <td>22.0</td>\n",
       "      <td>27.0</td>\n",
       "      <td>54.0</td>\n",
       "      <td>91.0</td>\n",
       "      <td>147.0</td>\n",
       "      <td>124.0</td>\n",
       "      <td>9.0</td>\n",
       "    </tr>\n",
       "    <tr>\n",
       "      <th>918</th>\n",
       "      <td>2016-01-01 09:00:00</td>\n",
       "      <td>1075</td>\n",
       "      <td>22</td>\n",
       "      <td>27.0</td>\n",
       "      <td>54.0</td>\n",
       "      <td>91.0</td>\n",
       "      <td>147.0</td>\n",
       "      <td>124.0</td>\n",
       "      <td>135.0</td>\n",
       "      <td>10.0</td>\n",
       "    </tr>\n",
       "  </tbody>\n",
       "</table>\n",
       "</div>"
      ],
      "text/plain": [
       "                   time  region  count    y1    y2    y3     y4     y5     y6  \\\n",
       "0   2016-01-01 00:00:00    1075     80  91.0  90.0  32.0   24.0   11.0    7.0   \n",
       "102 2016-01-01 01:00:00    1075     91  90.0  32.0  24.0   11.0    7.0    9.0   \n",
       "204 2016-01-01 02:00:00    1075     90  32.0  24.0  11.0    7.0    9.0   18.0   \n",
       "306 2016-01-01 03:00:00    1075     32  24.0  11.0   7.0    9.0   18.0   22.0   \n",
       "408 2016-01-01 04:00:00    1075     24  11.0   7.0   9.0   18.0   22.0   27.0   \n",
       "510 2016-01-01 05:00:00    1075     11   7.0   9.0  18.0   22.0   27.0   54.0   \n",
       "612 2016-01-01 06:00:00    1075      7   9.0  18.0  22.0   27.0   54.0   91.0   \n",
       "714 2016-01-01 07:00:00    1075      9  18.0  22.0  27.0   54.0   91.0  147.0   \n",
       "816 2016-01-01 08:00:00    1075     18  22.0  27.0  54.0   91.0  147.0  124.0   \n",
       "918 2016-01-01 09:00:00    1075     22  27.0  54.0  91.0  147.0  124.0  135.0   \n",
       "\n",
       "      row  \n",
       "0     1.0  \n",
       "102   2.0  \n",
       "204   3.0  \n",
       "306   4.0  \n",
       "408   5.0  \n",
       "510   6.0  \n",
       "612   7.0  \n",
       "714   8.0  \n",
       "816   9.0  \n",
       "918  10.0  "
      ]
     },
     "execution_count": 10,
     "metadata": {},
     "output_type": "execute_result"
    }
   ],
   "source": [
    "regions_data.head(10)"
   ]
  },
  {
   "cell_type": "markdown",
   "metadata": {},
   "source": [
    "Лиричекое отступление:\n",
    "Я решил пока что не добавлять результаты предыдущей недели: долго считать. Вместо этого добавим скользящее среднее с окном в 6 часов\n",
    "Но думаю к след. неделе посчитаю и с SARIMAX результатами."
   ]
  },
  {
   "cell_type": "code",
   "execution_count": 11,
   "metadata": {},
   "outputs": [],
   "source": [
    "# регрессионные признаки\n",
    "K=7\n",
    "for i in range(1,K+1):\n",
    "    regions_data.loc[:,'sink'+str(i)]=np.sin(regions_data.row*2*np.pi*i/168.0)\n",
    "    regions_data.loc[:,'cosk'+str(i)]=np.cos(regions_data.row*2*np.pi*i/168.0)"
   ]
  },
  {
   "cell_type": "code",
   "execution_count": 12,
   "metadata": {},
   "outputs": [],
   "source": [
    "# признаки по дням недели\n",
    "regions_data['week']= pd.DatetimeIndex(regions_data.time).dayofweek\n",
    "regions_data['day']= pd.DatetimeIndex(regions_data.time).day\n",
    "regions_data['hour']= pd.DatetimeIndex(regions_data.time).hour"
   ]
  },
  {
   "cell_type": "code",
   "execution_count": 13,
   "metadata": {},
   "outputs": [],
   "source": [
    "#Скользящее среднее : число поездок последних 6 часов\n",
    "tmp=regions_data.groupby(['region'])['count'].rolling(6).sum()\n",
    "tmp=tmp.reset_index()"
   ]
  },
  {
   "cell_type": "code",
   "execution_count": 14,
   "metadata": {},
   "outputs": [],
   "source": [
    "tmp.index=tmp.level_1\n",
    "del tmp['region'] \n",
    "del tmp['level_1']\n",
    "regions_data['last_6_hours_sum'] = tmp['count']"
   ]
  },
  {
   "cell_type": "code",
   "execution_count": 15,
   "metadata": {},
   "outputs": [],
   "source": [
    "regions_data['last_6_hours_mean']=regions_data['last_6_hours_sum']/6"
   ]
  },
  {
   "cell_type": "code",
   "execution_count": 16,
   "metadata": {},
   "outputs": [],
   "source": [
    "#1to6_h_ago признак равен значению час назад для y1, значению 2 часа назад для y2 и тд, \n",
    "#ну и еще признаки 2 часа назад для y1 и тп.\n",
    "regions_data['1to6_h_ago']=regions_data['count']\n",
    "regions_data['2to7_h_ago']=regions_data.groupby(['region'])['count'].shift(1)\n",
    "regions_data['3to8_h_ago']=regions_data.groupby(['region'])['count'].shift(2)"
   ]
  },
  {
   "cell_type": "code",
   "execution_count": 17,
   "metadata": {},
   "outputs": [],
   "source": [
    "#параметры числа поездок из р-на в прошлый день\n",
    "regions_data['y1_sh24']=regions_data.groupby(['region'])['y1'].shift(24)\n",
    "regions_data['y2_sh24']=regions_data.groupby(['region'])['y2'].shift(24)\n",
    "regions_data['y3_sh24']=regions_data.groupby(['region'])['y3'].shift(24)\n",
    "regions_data['y4_sh24']=regions_data.groupby(['region'])['y4'].shift(24)\n",
    "regions_data['y5_sh24']=regions_data.groupby(['region'])['y5'].shift(24)\n",
    "regions_data['y6_sh24']=regions_data.groupby(['region'])['y6'].shift(24)"
   ]
  },
  {
   "cell_type": "code",
   "execution_count": 18,
   "metadata": {},
   "outputs": [],
   "source": [
    "#параметры числа поездок из р-на в прошлую неделю\n",
    "regions_data['y1_sh168']=regions_data.groupby(['region'])['y1'].shift(168)\n",
    "regions_data['y2_sh168']=regions_data.groupby(['region'])['y2'].shift(168)\n",
    "regions_data['y3_sh168']=regions_data.groupby(['region'])['y3'].shift(168)\n",
    "regions_data['y4_sh168']=regions_data.groupby(['region'])['y4'].shift(168)\n",
    "regions_data['y5_sh168']=regions_data.groupby(['region'])['y5'].shift(168)\n",
    "regions_data['y6_sh168']=regions_data.groupby(['region'])['y6'].shift(168)"
   ]
  },
  {
   "cell_type": "code",
   "execution_count": 19,
   "metadata": {},
   "outputs": [],
   "source": [
    "regions_data.index = regions_data.time"
   ]
  },
  {
   "cell_type": "code",
   "execution_count": 20,
   "metadata": {},
   "outputs": [],
   "source": [
    "train_time_start = '2016-01-02'\n",
    "train_time_end = '2016-04-30 23:00:00'\n",
    "test_time_start = '2016-05-01'\n",
    "test_time_end = '2016-05-31 17:00:00'"
   ]
  },
  {
   "cell_type": "code",
   "execution_count": 21,
   "metadata": {},
   "outputs": [],
   "source": [
    "# функция получения идентификатора для проведения сабмита\n",
    "def get_id(x, a):\n",
    "    return str(x[0])+'_'+str(x[1])[:10]+'_'+str(int(str(x[1])[11:13]))+'_'+str(a)"
   ]
  },
  {
   "cell_type": "markdown",
   "metadata": {},
   "source": [
    "Чтобы не возиться с категориальными переменными, просто положим всё в xgboost"
   ]
  },
  {
   "cell_type": "code",
   "execution_count": 22,
   "metadata": {},
   "outputs": [],
   "source": [
    "def make_prediction(train_time_start,train_time_end,test_time_start,test_time_end, error_for_month, submit = False):\n",
    "\n",
    "    abs_err_sum=0\n",
    "    df_submit = pd.DataFrame()\n",
    "    for i in ['y1','y2','y3','y4','y5','y6']:\n",
    "        columns_to_use = [ u'region',u'week', u'day',u'hour',\n",
    "                           u'sink1', u'cosk1', u'sink2', u'cosk2', u'sink3', u'cosk3',\n",
    "                           u'sink4', u'cosk4', u'sink5', u'cosk5', u'sink6', u'cosk6',\n",
    "                           u'sink7', u'cosk7', \n",
    "                           u'1to6_h_ago', u'2to7_h_ago', u'3to8_h_ago', \n",
    "                           u'last_6_hours_mean', u'last_6_hours_sum',\n",
    "                           i+'_sh24', i+'_sh168']\n",
    "\n",
    "        X_train=regions_data[columns_to_use][train_time_start:train_time_end]\n",
    "        Y_train=regions_data[[i]][train_time_start:train_time_end]\n",
    "\n",
    "        X_test=regions_data[columns_to_use][test_time_start:test_time_end]\n",
    "\n",
    "        T_train_xgb = xgb.DMatrix(X_train, Y_train)\n",
    "        \n",
    "        # оставим параметры по умолчанию: они творят чудеса\n",
    "        params = {}\n",
    "        gbm = xgb.train(dtrain = T_train_xgb, params = params)\n",
    "        Y_pred = gbm.predict(xgb.DMatrix(X_test))\n",
    "\n",
    "        predictions = pd.DataFrame(regions_data[[i,'region']][test_time_start:test_time_end])\n",
    "        predictions['pred'] = Y_pred\n",
    "        predictions.loc[predictions.pred < 0,'pred'] = 0.0\n",
    "        \n",
    "        if(submit):          \n",
    "            predictions['hour'] = X_test.index\n",
    "            predictions['id'] = predictions[['region', 'hour']].apply(get_id,args=[i[1]], axis=1)\n",
    "            df_submit = pd.concat([df_submit, predictions[['id', 'pred']]], axis=0)\n",
    "\n",
    "        abs_err_sum=abs_err_sum + np.sum(np.abs(predictions.pred - predictions[i]))\n",
    "        print ('Current error:', abs_err_sum)\n",
    "\n",
    "    print ('Q error for period: ',abs_err_sum / error_for_month)\n",
    "           \n",
    "    return predictions, df_submit"
   ]
  },
  {
   "cell_type": "code",
   "execution_count": 23,
   "metadata": {},
   "outputs": [
    {
     "name": "stdout",
     "output_type": "stream",
     "text": [
      "Current error: 1325324.286728561\n",
      "Current error: 2842917.1408284307\n",
      "Current error: 4419352.290310204\n",
      "Current error: 6007068.868725121\n",
      "Current error: 7620598.09896785\n",
      "Current error: 9237050.46862775\n",
      "Q error for period:  20.423842652205664\n"
     ]
    }
   ],
   "source": [
    "predictions, _ = make_prediction(train_time_start,train_time_end,test_time_start,test_time_end, 102*739*6)"
   ]
  },
  {
   "cell_type": "code",
   "execution_count": 24,
   "metadata": {},
   "outputs": [
    {
     "data": {
      "text/plain": [
       "<matplotlib.axes._subplots.AxesSubplot at 0x2bf2a2ea048>"
      ]
     },
     "execution_count": 24,
     "metadata": {},
     "output_type": "execute_result"
    },
    {
     "data": {
      "image/png": "[encoded data removed]",
      "text/plain": [
       "<Figure size 1080x504 with 1 Axes>"
      ]
     },
     "metadata": {
      "needs_background": "light"
     },
     "output_type": "display_data"
    }
   ],
   "source": [
    "# проверка предсказаний\n",
    "%matplotlib inline \n",
    "plt.figure(figsize=(15,7))\n",
    "predictions[predictions.region==1075].y6[test_time_start:test_time_end].plot(color='b')\n",
    "predictions[predictions.region==1075].pred[test_time_start:test_time_end].plot(color='r')"
   ]
  },
  {
   "cell_type": "markdown",
   "metadata": {},
   "source": [
    "Местами хорошо, да и ошибка поменьше, чем на пролой неделе"
   ]
  },
  {
   "cell_type": "code",
   "execution_count": 25,
   "metadata": {},
   "outputs": [],
   "source": [
    "# июнь\n",
    "train_time_start = '2016-01-02'\n",
    "train_time_end = '2016-05-31 22:00:00'\n",
    "test_time_start = '2016-05-31 23:00:00'\n",
    "test_time_end = '2016-06-30 17:00:00'"
   ]
  },
  {
   "cell_type": "code",
   "execution_count": 26,
   "metadata": {},
   "outputs": [
    {
     "name": "stdout",
     "output_type": "stream",
     "text": [
      "Current error: 1247243.6344673634\n",
      "Current error: 2655734.4557999372\n",
      "Current error: 4107387.6349728107\n",
      "Current error: 5571249.988109589\n",
      "Current error: 7052363.514480829\n",
      "Current error: 8539885.958462\n",
      "Q error for period:  19.516170662420585\n"
     ]
    }
   ],
   "source": [
    "_, submit_june = make_prediction(train_time_start,train_time_end,test_time_start,test_time_end, 102*715*6, True)"
   ]
  },
  {
   "cell_type": "code",
   "execution_count": 27,
   "metadata": {},
   "outputs": [
    {
     "data": {
      "text/html": [
       "<div>\n",
       "<style scoped>\n",
       "    .dataframe tbody tr th:only-of-type {\n",
       "        vertical-align: middle;\n",
       "    }\n",
       "\n",
       "    .dataframe tbody tr th {\n",
       "        vertical-align: top;\n",
       "    }\n",
       "\n",
       "    .dataframe thead th {\n",
       "        text-align: right;\n",
       "    }\n",
       "</style>\n",
       "<table border=\"1\" class=\"dataframe\">\n",
       "  <thead>\n",
       "    <tr style=\"text-align: right;\">\n",
       "      <th></th>\n",
       "      <th>id</th>\n",
       "      <th>pred</th>\n",
       "    </tr>\n",
       "    <tr>\n",
       "      <th>time</th>\n",
       "      <th></th>\n",
       "      <th></th>\n",
       "    </tr>\n",
       "  </thead>\n",
       "  <tbody>\n",
       "    <tr>\n",
       "      <th>2016-05-31 23:00:00</th>\n",
       "      <td>1075_2016-05-31_23_1</td>\n",
       "      <td>26.092333</td>\n",
       "    </tr>\n",
       "    <tr>\n",
       "      <th>2016-06-01 00:00:00</th>\n",
       "      <td>1075_2016-06-01_0_1</td>\n",
       "      <td>17.188984</td>\n",
       "    </tr>\n",
       "    <tr>\n",
       "      <th>2016-06-01 01:00:00</th>\n",
       "      <td>1075_2016-06-01_1_1</td>\n",
       "      <td>9.973756</td>\n",
       "    </tr>\n",
       "    <tr>\n",
       "      <th>2016-06-01 02:00:00</th>\n",
       "      <td>1075_2016-06-01_2_1</td>\n",
       "      <td>6.698097</td>\n",
       "    </tr>\n",
       "    <tr>\n",
       "      <th>2016-06-01 03:00:00</th>\n",
       "      <td>1075_2016-06-01_3_1</td>\n",
       "      <td>3.950209</td>\n",
       "    </tr>\n",
       "  </tbody>\n",
       "</table>\n",
       "</div>"
      ],
      "text/plain": [
       "                                       id       pred\n",
       "time                                                \n",
       "2016-05-31 23:00:00  1075_2016-05-31_23_1  26.092333\n",
       "2016-06-01 00:00:00   1075_2016-06-01_0_1  17.188984\n",
       "2016-06-01 01:00:00   1075_2016-06-01_1_1   9.973756\n",
       "2016-06-01 02:00:00   1075_2016-06-01_2_1   6.698097\n",
       "2016-06-01 03:00:00   1075_2016-06-01_3_1   3.950209"
      ]
     },
     "execution_count": 27,
     "metadata": {},
     "output_type": "execute_result"
    }
   ],
   "source": [
    "submit_june.head()"
   ]
  },
  {
   "cell_type": "code",
   "execution_count": 28,
   "metadata": {},
   "outputs": [],
   "source": [
    "submit_june.columns = ['id','y']"
   ]
  },
  {
   "cell_type": "code",
   "execution_count": 29,
   "metadata": {},
   "outputs": [],
   "source": [
    "submit_june.to_csv('submitions/test_w5.csv', index=False)"
   ]
  },
  {
   "cell_type": "markdown",
   "metadata": {
    "collapsed": true
   },
   "source": [
    "https://inclass.kaggle.com/c/yellowtaxi/leaderboard?submissionId=4984481  (19.51614)"
   ]
  }
 ],
 "metadata": {
  "kernelspec": {
   "display_name": "Python 3",
   "language": "python",
   "name": "python3"
  },
  "language_info": {
   "codemirror_mode": {
    "name": "ipython",
    "version": 3
   },
   "file_extension": ".py",
   "mimetype": "text/x-python",
   "name": "python",
   "nbconvert_exporter": "python",
   "pygments_lexer": "ipython3",
   "version": "3.7.1"
  }
 },
 "nbformat": 4,
 "nbformat_minor": 2
}
